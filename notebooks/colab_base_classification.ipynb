{
  "cells": [
    {
      "cell_type": "code",
      "execution_count": 1,
      "metadata": {
        "id": "dXyTiAyFAtR_"
      },
      "outputs": [],
      "source": [
        "colab = True"
      ]
    },
    {
      "cell_type": "code",
      "execution_count": null,
      "metadata": {
        "id": "2S08tgVHhYPo"
      },
      "outputs": [],
      "source": [
        "if colab:\n",
        "    import os\n",
        "    from IPython.display import clear_output \n",
        "    !pip install node2vec\n",
        "    !pip install scikit-multilearn\n",
        "    clear_output()\n",
        "    os.kill(os.getpid(), 9) "
      ]
    },
    {
      "cell_type": "markdown",
      "source": [
        "### Traditional ML + Node2Vec"
      ],
      "metadata": {
        "id": "difKiE_C0sAh"
      }
    },
    {
      "cell_type": "code",
      "execution_count": 2,
      "metadata": {
        "id": "x2Uv9N1ZAtSC"
      },
      "outputs": [],
      "source": [
        "if colab: \n",
        "   from node2vec import Node2Vec\n",
        "\n",
        "import pandas as pd\n",
        "import networkx as nx\n",
        "import numpy as np\n",
        "from sklearn.multioutput import MultiOutputClassifier\n",
        "from sklearn.linear_model import LogisticRegression\n"
      ]
    },
    {
      "cell_type": "code",
      "execution_count": 9,
      "metadata": {
        "id": "oXDW0PAwhYPt"
      },
      "outputs": [],
      "source": [
        "if colab:\n",
        "    df = pd.read_csv('/content/berlin_edge_list.csv')\n",
        "else:\n",
        "    df = pd.read_csv('data/berlin/edge_list.csv')"
      ]
    },
    {
      "cell_type": "code",
      "execution_count": 10,
      "metadata": {
        "colab": {
          "base_uri": "https://localhost:8080/",
          "height": 206
        },
        "id": "NYBAG5a9hYPu",
        "outputId": "81140be9-4017-44a1-af08-cdd5b392a26d"
      },
      "outputs": [
        {
          "output_type": "execute_result",
          "data": {
            "text/plain": [
              "   from_stop_I  to_stop_I            label      d  n_vehicles\n",
              "0          105        106  [0, 0, 0, 1, 0]  233.0       159.0\n",
              "1          105        107  [0, 0, 0, 1, 0]  302.0       158.0\n",
              "2          106        105  [0, 0, 0, 1, 0]  233.0       158.0\n",
              "3          106        117  [0, 0, 0, 1, 0]  351.0       159.0\n",
              "4          107        105  [0, 0, 0, 1, 0]  302.0       159.0"
            ],
            "text/html": [
              "\n",
              "  <div id=\"df-77e6ccfd-37d5-4780-b210-7784e45751e7\">\n",
              "    <div class=\"colab-df-container\">\n",
              "      <div>\n",
              "<style scoped>\n",
              "    .dataframe tbody tr th:only-of-type {\n",
              "        vertical-align: middle;\n",
              "    }\n",
              "\n",
              "    .dataframe tbody tr th {\n",
              "        vertical-align: top;\n",
              "    }\n",
              "\n",
              "    .dataframe thead th {\n",
              "        text-align: right;\n",
              "    }\n",
              "</style>\n",
              "<table border=\"1\" class=\"dataframe\">\n",
              "  <thead>\n",
              "    <tr style=\"text-align: right;\">\n",
              "      <th></th>\n",
              "      <th>from_stop_I</th>\n",
              "      <th>to_stop_I</th>\n",
              "      <th>label</th>\n",
              "      <th>d</th>\n",
              "      <th>n_vehicles</th>\n",
              "    </tr>\n",
              "  </thead>\n",
              "  <tbody>\n",
              "    <tr>\n",
              "      <th>0</th>\n",
              "      <td>105</td>\n",
              "      <td>106</td>\n",
              "      <td>[0, 0, 0, 1, 0]</td>\n",
              "      <td>233.0</td>\n",
              "      <td>159.0</td>\n",
              "    </tr>\n",
              "    <tr>\n",
              "      <th>1</th>\n",
              "      <td>105</td>\n",
              "      <td>107</td>\n",
              "      <td>[0, 0, 0, 1, 0]</td>\n",
              "      <td>302.0</td>\n",
              "      <td>158.0</td>\n",
              "    </tr>\n",
              "    <tr>\n",
              "      <th>2</th>\n",
              "      <td>106</td>\n",
              "      <td>105</td>\n",
              "      <td>[0, 0, 0, 1, 0]</td>\n",
              "      <td>233.0</td>\n",
              "      <td>158.0</td>\n",
              "    </tr>\n",
              "    <tr>\n",
              "      <th>3</th>\n",
              "      <td>106</td>\n",
              "      <td>117</td>\n",
              "      <td>[0, 0, 0, 1, 0]</td>\n",
              "      <td>351.0</td>\n",
              "      <td>159.0</td>\n",
              "    </tr>\n",
              "    <tr>\n",
              "      <th>4</th>\n",
              "      <td>107</td>\n",
              "      <td>105</td>\n",
              "      <td>[0, 0, 0, 1, 0]</td>\n",
              "      <td>302.0</td>\n",
              "      <td>159.0</td>\n",
              "    </tr>\n",
              "  </tbody>\n",
              "</table>\n",
              "</div>\n",
              "      <button class=\"colab-df-convert\" onclick=\"convertToInteractive('df-77e6ccfd-37d5-4780-b210-7784e45751e7')\"\n",
              "              title=\"Convert this dataframe to an interactive table.\"\n",
              "              style=\"display:none;\">\n",
              "        \n",
              "  <svg xmlns=\"http://www.w3.org/2000/svg\" height=\"24px\"viewBox=\"0 0 24 24\"\n",
              "       width=\"24px\">\n",
              "    <path d=\"M0 0h24v24H0V0z\" fill=\"none\"/>\n",
              "    <path d=\"M18.56 5.44l.94 2.06.94-2.06 2.06-.94-2.06-.94-.94-2.06-.94 2.06-2.06.94zm-11 1L8.5 8.5l.94-2.06 2.06-.94-2.06-.94L8.5 2.5l-.94 2.06-2.06.94zm10 10l.94 2.06.94-2.06 2.06-.94-2.06-.94-.94-2.06-.94 2.06-2.06.94z\"/><path d=\"M17.41 7.96l-1.37-1.37c-.4-.4-.92-.59-1.43-.59-.52 0-1.04.2-1.43.59L10.3 9.45l-7.72 7.72c-.78.78-.78 2.05 0 2.83L4 21.41c.39.39.9.59 1.41.59.51 0 1.02-.2 1.41-.59l7.78-7.78 2.81-2.81c.8-.78.8-2.07 0-2.86zM5.41 20L4 18.59l7.72-7.72 1.47 1.35L5.41 20z\"/>\n",
              "  </svg>\n",
              "      </button>\n",
              "      \n",
              "  <style>\n",
              "    .colab-df-container {\n",
              "      display:flex;\n",
              "      flex-wrap:wrap;\n",
              "      gap: 12px;\n",
              "    }\n",
              "\n",
              "    .colab-df-convert {\n",
              "      background-color: #E8F0FE;\n",
              "      border: none;\n",
              "      border-radius: 50%;\n",
              "      cursor: pointer;\n",
              "      display: none;\n",
              "      fill: #1967D2;\n",
              "      height: 32px;\n",
              "      padding: 0 0 0 0;\n",
              "      width: 32px;\n",
              "    }\n",
              "\n",
              "    .colab-df-convert:hover {\n",
              "      background-color: #E2EBFA;\n",
              "      box-shadow: 0px 1px 2px rgba(60, 64, 67, 0.3), 0px 1px 3px 1px rgba(60, 64, 67, 0.15);\n",
              "      fill: #174EA6;\n",
              "    }\n",
              "\n",
              "    [theme=dark] .colab-df-convert {\n",
              "      background-color: #3B4455;\n",
              "      fill: #D2E3FC;\n",
              "    }\n",
              "\n",
              "    [theme=dark] .colab-df-convert:hover {\n",
              "      background-color: #434B5C;\n",
              "      box-shadow: 0px 1px 3px 1px rgba(0, 0, 0, 0.15);\n",
              "      filter: drop-shadow(0px 1px 2px rgba(0, 0, 0, 0.3));\n",
              "      fill: #FFFFFF;\n",
              "    }\n",
              "  </style>\n",
              "\n",
              "      <script>\n",
              "        const buttonEl =\n",
              "          document.querySelector('#df-77e6ccfd-37d5-4780-b210-7784e45751e7 button.colab-df-convert');\n",
              "        buttonEl.style.display =\n",
              "          google.colab.kernel.accessAllowed ? 'block' : 'none';\n",
              "\n",
              "        async function convertToInteractive(key) {\n",
              "          const element = document.querySelector('#df-77e6ccfd-37d5-4780-b210-7784e45751e7');\n",
              "          const dataTable =\n",
              "            await google.colab.kernel.invokeFunction('convertToInteractive',\n",
              "                                                     [key], {});\n",
              "          if (!dataTable) return;\n",
              "\n",
              "          const docLinkHtml = 'Like what you see? Visit the ' +\n",
              "            '<a target=\"_blank\" href=https://colab.research.google.com/notebooks/data_table.ipynb>data table notebook</a>'\n",
              "            + ' to learn more about interactive tables.';\n",
              "          element.innerHTML = '';\n",
              "          dataTable['output_type'] = 'display_data';\n",
              "          await google.colab.output.renderOutput(dataTable, element);\n",
              "          const docLink = document.createElement('div');\n",
              "          docLink.innerHTML = docLinkHtml;\n",
              "          element.appendChild(docLink);\n",
              "        }\n",
              "      </script>\n",
              "    </div>\n",
              "  </div>\n",
              "  "
            ]
          },
          "metadata": {},
          "execution_count": 10
        }
      ],
      "source": [
        "df.head()"
      ]
    },
    {
      "cell_type": "code",
      "execution_count": 11,
      "metadata": {
        "id": "-M8mtYx9hYPu"
      },
      "outputs": [],
      "source": [
        "G = nx.from_pandas_edgelist(df, source='from_stop_I', target='to_stop_I', create_using=nx.DiGraph(),\n",
        "                            edge_attr='label')"
      ]
    },
    {
      "cell_type": "code",
      "execution_count": 12,
      "metadata": {
        "id": "nEP9n3REhYPu"
      },
      "outputs": [],
      "source": [
        "values = nx.get_edge_attributes(G, \"label\")"
      ]
    },
    {
      "cell_type": "code",
      "execution_count": 13,
      "metadata": {
        "id": "pQtsLXmNhYPv"
      },
      "outputs": [],
      "source": [
        "targets = np.zeros(G.number_of_nodes())"
      ]
    },
    {
      "cell_type": "code",
      "execution_count": 14,
      "metadata": {
        "colab": {
          "base_uri": "https://localhost:8080/"
        },
        "id": "eP3Si1ZMhYPv",
        "outputId": "4db3c8ac-5313-462f-9e5c-4e0ed65b1cde"
      },
      "outputs": [
        {
          "output_type": "execute_result",
          "data": {
            "text/plain": [
              "array([[0., 0., 0., 0., 0.],\n",
              "       [0., 0., 0., 0., 0.],\n",
              "       [0., 0., 0., 0., 0.],\n",
              "       ...,\n",
              "       [0., 0., 0., 0., 0.],\n",
              "       [0., 0., 0., 0., 0.],\n",
              "       [0., 0., 0., 0., 0.]])"
            ]
          },
          "metadata": {},
          "execution_count": 14
        }
      ],
      "source": [
        "np.zeros((G.number_of_edges(),5))"
      ]
    },
    {
      "cell_type": "code",
      "execution_count": 15,
      "metadata": {
        "id": "PCHlERMOhYPv"
      },
      "outputs": [],
      "source": [
        "import ast \n",
        "def edge_target_extraction(G):\n",
        "\n",
        "    values = nx.get_edge_attributes(G, \"label\")\n",
        "    targets = np.zeros((G.number_of_edges(),5))\n",
        "    for i,edge in enumerate(G.edges()):\n",
        "        arr = np.array(ast.literal_eval(values[edge]))\n",
        "        targets[i] = arr\n",
        "    return targets\n",
        "\n"
      ]
    },
    {
      "cell_type": "code",
      "execution_count": 16,
      "metadata": {
        "colab": {
          "base_uri": "https://localhost:8080/"
        },
        "id": "J6aSQxhIhYPw",
        "outputId": "3f3ec6a6-3cf6-45d9-e026-e48873d5a5e0"
      },
      "outputs": [
        {
          "output_type": "execute_result",
          "data": {
            "text/plain": [
              "array([[0., 0., 0., 1., 0.],\n",
              "       [0., 0., 0., 1., 0.],\n",
              "       [0., 0., 0., 1., 0.],\n",
              "       ...,\n",
              "       [0., 0., 0., 1., 0.],\n",
              "       [0., 0., 0., 1., 0.],\n",
              "       [0., 0., 0., 1., 0.]])"
            ]
          },
          "metadata": {},
          "execution_count": 16
        }
      ],
      "source": [
        "edge_target_extraction(G)"
      ]
    },
    {
      "cell_type": "code",
      "source": [
        "betweeness_centrality = nx.edge_betweenness_centrality(G)"
      ],
      "metadata": {
        "id": "JgH5t6I5HYlU"
      },
      "execution_count": 17,
      "outputs": []
    },
    {
      "cell_type": "code",
      "execution_count": 18,
      "metadata": {
        "id": "bkMrHrguhYPw"
      },
      "outputs": [],
      "source": [
        "def average_operator(x, y):\n",
        "  ''' \n",
        "  INPUT:\n",
        "  x, y: pair of node features, each with dimension (D, ) (D: dimension of features) \n",
        "  \n",
        "  OUTPUT:\n",
        "  edge features by the operation on node features, with dimension (D, )\n",
        "  '''\n",
        "  return (x + y) / 2"
      ]
    },
    {
      "cell_type": "code",
      "execution_count": 19,
      "metadata": {
        "id": "I5iYEaLAjyMm"
      },
      "outputs": [],
      "source": [
        "def node_feature_extraction(G):\n",
        "  '''\n",
        "  INPUT:\n",
        "  G: the graph\n",
        "\n",
        "  OUTPUT:\n",
        "  features: feature matrix of dimensions (N, D) (N: number of samples; D: number of features) \n",
        "  '''\n",
        "# Your solution here ###########################################################\n",
        "  team_to_idx = {team: i for i, team in enumerate(G.nodes())}\n",
        "  features = np.zeros((G.number_of_nodes(), 5))\n",
        "\n",
        "  closeness_centrality = nx.closeness_centrality(G)\n",
        "  betweeness_centrality = nx.betweenness_centrality(G)\n",
        "  eigenvector_centrality = nx.eigenvector_centrality(G,max_iter=500)\n",
        "\n",
        "  for i,node in enumerate(G.nodes()):\n",
        "    features[i, 0] = G.degree[node]\n",
        "    features[i, 1] = nx.clustering(G, node)\n",
        "    features[i, 2] = closeness_centrality[node]\n",
        "    features[i, 3] = betweeness_centrality[node]\n",
        "    features[i, 4] = eigenvector_centrality[node]\n",
        "#^^^^^^^^^^^^^^^^^^^^^^^^^^^^^^^^^^^^^^^^^^^^^^^^^^^^^^^^^^^^^^^^^^^^^^^^^^^^^^\n",
        "  return features"
      ]
    },
    {
      "cell_type": "markdown",
      "metadata": {
        "id": "3oj85TsTAtSJ"
      },
      "source": [
        "#### Functions"
      ]
    },
    {
      "cell_type": "code",
      "execution_count": 20,
      "metadata": {
        "id": "3ACGBio_hYPx"
      },
      "outputs": [],
      "source": [
        "def edge_feature_extraction(features_node,G):\n",
        "    D = features_node.shape[1]\n",
        "    features = np.zeros((G.number_of_edges(), D+1))\n",
        "    node_to_idx = {node: i for i, node in enumerate(G.nodes())}\n",
        "    for i, edge in enumerate(G.edges()):\n",
        "        node_1 = node_to_idx[edge[0]]\n",
        "        node_2 = node_to_idx[edge[1]]\n",
        "        concat_array = np.concatenate((average_operator(features_node[node_1], features_node[node_2]),np.array([betweeness_centrality[edge]])))\n",
        "        features[i] = concat_array\n",
        "    \n",
        "        #features[i, 2] = nx.closeness_centrality(G)[i]\n",
        "        #features[i, 3] = nx.betweenness_centrality(G)[i]\n",
        "        #features[i, 4] = nx.eigenvector_centrality(G)[i]\n",
        "    return features"
      ]
    },
    {
      "cell_type": "code",
      "execution_count": 21,
      "metadata": {
        "id": "OnDzV-FChYPy"
      },
      "outputs": [],
      "source": [
        "from sklearn.model_selection import train_test_split\n",
        "from sklearn import metrics\n",
        "from sklearn import svm\n",
        "from sklearn.preprocessing import StandardScaler\n",
        "from sklearn.feature_selection import SelectKBest, f_classif\n",
        "\n",
        "from skmultilearn.model_selection import iterative_train_test_split\n",
        "\n",
        "def classifier(features, targets, labels, feature_selection=False, num_features=1, test_size=0.5, seed=0, verbose=False):\n",
        "  ''' \n",
        "  INPUT:\n",
        "  features: feature matrix of dimensions (N, D) (N: number of samples; D: number of features) \n",
        "  targets: target vector of dimensions (N, ) (N: number of samples)\n",
        "  labels: vector of all possible labels for nodes in the graph \n",
        "  feature_selection: a flag for whether to use feature selction, bool\n",
        "  num_features: number of features used from feature selesction\n",
        "  test_size: please set to 0.5 for reproducibility\n",
        "  seed: please set to 0 for reproducibility\n",
        "  verbose: print and plot result or not, bool\n",
        "  \n",
        "  OUTPUT:\n",
        "  cm: confusion matrix on the test set\n",
        "  f1: weighted f1 score on the test set\n",
        "\n",
        "  ** Please set all of the random_state=seed in following module **\n",
        "  '''\n",
        "\n",
        "  # Split the data into training and testing sets, with test_size=0.5\n",
        "  # Your solution here ###########################################################\n",
        "  np.random.seed(seed)\n",
        "  X_train, X_test, y_train, y_test = train_test_split(features, targets, test_size=test_size, random_state=seed, stratify=targets)\n",
        "  #X_train, y_train, X_test, y_test = iterative_train_test_split(features, targets, test_size = test_size)\n",
        "    #^^^^^^^^^^^^^^^^^^^^^^^^^^^^^^^^^^^^^^^^^^^^^^^^^^^^^^^^^^^^^^^^^^^^^^^^^^^^^^^\n",
        "\n",
        "  if feature_selection:\n",
        "    ## Your solution here ###########################################################\n",
        "    ## Build and train the ML model, including feature selection, normalization and Support Vector Classifier. Select the k highest relevant features for the classification. \n",
        "    selector = SelectKBest(f_classif, k=num_features)\n",
        "    X_train = selector.fit_transform(X_train, y_train)\n",
        "    X_test = selector.transform(X_test)\n",
        "    scaler = StandardScaler()\n",
        "    X_train = scaler.fit_transform(X_train)\n",
        "    X_test = scaler.transform(X_test)\n",
        "    clf = svm.SVC(class_weight='balanced', random_state=seed)\n",
        "    \n",
        "    # Wrap the binary classifier in the MultiOutputClassifier for multi-label classification\n",
        "    clf = MultiOutputClassifier(clf)\n",
        "    clf.fit(X_train, y_train)\n",
        "    \n",
        "    ## Print the scores for individual features.\n",
        "    if verbose:\n",
        "      print(f\"Scores for individual features: {selector.scores_}\")\n",
        "\n",
        "   \n",
        "    ##^^^^^^^^^^^^^^^^^^^^^^^^^^^^^^^^^^^^^^^^^^^^^^^^^^^^^^^^^^^^^^^^^^^^^^^^^^^^^^^\n",
        "  else:\n",
        "    ## Your solution here ###########################################################\n",
        "    ## Build and train the ML model, including normalization and Support Vector Classifier.\n",
        "    scaler = StandardScaler()\n",
        "    X_train = scaler.fit_transform(X_train)\n",
        "    X_test = scaler.transform(X_test)\n",
        "    clf = svm.SVC(class_weight='balanced', random_state=seed)\n",
        "\n",
        "    # Wrap the binary classifier in the MultiOutputClassifier for multi-label classification\n",
        "    clf = MultiOutputClassifier(clf)\n",
        "    clf.fit(X_train, y_train)\n",
        "\n",
        "    ##^^^^^^^^^^^^^^^^^^^^^^^^^^^^^^^^^^^^^^^^^^^^^^^^^^^^^^^^^^^^^^^^^^^^^^^^^^^^^^^\n",
        "\n",
        "  # Your solution here ###########################################################\n",
        "  # Use the model to predict the labels of the test data\n",
        "  y_pred = clf.predict(X_test)\n",
        "  \n",
        "\n",
        "  # Output the confusion matrix and weighted f1 score on the test set. Print the weighted f1 score and plot the confusion matrix if verbose\n",
        "  #cm = metrics.confusion_matrix(y_test, y_pred, labels=labels)\n",
        "  f1 = metrics.f1_score(y_test, y_pred, average='weighted')\n",
        "  if verbose:\n",
        "    print(f\"Weighted f1 score: {f1}\")\n",
        "    #disp = metrics.ConfusionMatrixDisplay(confusion_matrix=cm, display_labels=labels)\n",
        "    #disp.plot()\n",
        "  \n",
        "  #^^^^^^^^^^^^^^^^^^^^^^^^^^^^^^^^^^^^^^^^^^^^^^^^^^^^^^^^^^^^^^^^^^^^^^^^^^^^^^^\n",
        "  return f1,y_pred,y_test"
      ]
    },
    {
      "cell_type": "code",
      "execution_count": 22,
      "metadata": {
        "id": "wpFYAxwrhYPz"
      },
      "outputs": [],
      "source": [
        "def Node2Vec_node_feature_extraction(G, num_features=1, p=1.0, q=1.0, seed=0):\n",
        "  ''' \n",
        "  INPUT:\n",
        "  G: the graph\n",
        "  num_features: dimension of node2vec embeddings, int\n",
        "  p: float\n",
        "  q: float\n",
        "  seed: please always set to 0\n",
        "  \n",
        "  OUTPUT:\n",
        "  features: feature matrix of dimensions (N, D) (N: number of samples; D: dimension of Node2Vec embeddings) \n",
        "  '''\n",
        "  \n",
        "  # \n",
        "  # Your solution here ###########################################################\n",
        "  # Use Node2Vec to extract node embeddings\n",
        "  np.random.seed(seed)\n",
        "\n",
        "  #node2vec = Node2Vec(G, dimensions=num_features, p=p, q=q, seed=seed)\n",
        "  node2vec = Node2Vec(G,dimensions=num_features, walk_length=20, p=1, q=1,seed=seed)\n",
        "  #model = N\n",
        "\n",
        "  #node2vec = Node2Vec(G, dimensions=num_features,workers=4)\n",
        "  model = node2vec.fit(window=10, min_count=1, batch_words=4, seed=seed)\n",
        "  embeddings = model.wv\n",
        "  features  = np.zeros((G.number_of_nodes(), num_features))\n",
        "  for i, node in enumerate(G.nodes()):\n",
        "    if node in embeddings:\n",
        "      features[i] = embeddings[node]\n",
        "      print(\"embedding found\")\n",
        "    else:\n",
        "      print(\"node embedding not found\")\n",
        "      features[i] = np.zeros(num_features)\n",
        "\n",
        "\n",
        "  \n",
        "  #^^^^^^^^^^^^^^^^^^^^^^^^^^^^^^^^^^^^^^^^^^^^^^^^^^^^^^^^^^^^^^^^^^^^^^^^^^^^^^^\n",
        "  return features"
      ]
    },
    {
      "cell_type": "markdown",
      "metadata": {
        "id": "s2AqonYRAtSM"
      },
      "source": [
        "#### Traditional features performance"
      ]
    },
    {
      "cell_type": "code",
      "execution_count": 23,
      "metadata": {
        "id": "A5CYeG9ehYPz"
      },
      "outputs": [],
      "source": [
        "targets = edge_target_extraction(G)\n",
        "features_node = node_feature_extraction(G)"
      ]
    },
    {
      "cell_type": "code",
      "source": [
        "features_edge = edge_feature_extraction(features_node,G)"
      ],
      "metadata": {
        "id": "SCJwBL_lHk9U"
      },
      "execution_count": 24,
      "outputs": []
    },
    {
      "cell_type": "code",
      "execution_count": 97,
      "metadata": {
        "colab": {
          "base_uri": "https://localhost:8080/"
        },
        "id": "Z47GOQHghYP0",
        "outputId": "aa764b1f-93a0-4c85-919b-d27de23bd824"
      },
      "outputs": [
        {
          "output_type": "stream",
          "name": "stdout",
          "text": [
            "Weighted f1 score: 0.7801487048786827\n"
          ]
        }
      ],
      "source": [
        "f1,y_pred,y_test = classifier(features_edge, targets, None, feature_selection=False, verbose=True)"
      ]
    },
    {
      "cell_type": "code",
      "source": [
        "precision = metrics.precision_score(y_test, y_pred, average='weighted')\n",
        "recall = metrics.recall_score(y_test, y_pred, average='weighted')\n",
        "f1 = metrics.f1_score(y_test, y_pred, average='weighted')\n",
        "print(\"Precision:\", precision)\n",
        "print(\"Recall:\", recall)\n",
        "print(\"F1-score:\", f1)"
      ],
      "metadata": {
        "colab": {
          "base_uri": "https://localhost:8080/"
        },
        "id": "zTy5Oa7yptrt",
        "outputId": "8a5827c4-b5f7-48cd-98d2-3d7a3b8b723b"
      },
      "execution_count": 98,
      "outputs": [
        {
          "output_type": "stream",
          "name": "stdout",
          "text": [
            "Precision: 0.8126110739614844\n",
            "Recall: 0.8102649006622517\n",
            "F1-score: 0.7801487048786827\n"
          ]
        }
      ]
    },
    {
      "cell_type": "code",
      "execution_count": 27,
      "metadata": {
        "colab": {
          "base_uri": "https://localhost:8080/"
        },
        "id": "xWqj1HQ3hYP0",
        "outputId": "c5c2b6b0-37f0-4e69-9ce8-0498d37f8099"
      },
      "outputs": [
        {
          "output_type": "execute_result",
          "data": {
            "text/plain": [
              "array([4.960e+02, 1.820e+02, 2.540e+02, 5.104e+03, 4.000e+00])"
            ]
          },
          "metadata": {},
          "execution_count": 27
        }
      ],
      "source": [
        "#check which index has 1 and count how many times, in y_test\n",
        "y_test.sum(axis=0)"
      ]
    },
    {
      "cell_type": "code",
      "source": [
        "y_pred.sum(axis=0)"
      ],
      "metadata": {
        "colab": {
          "base_uri": "https://localhost:8080/"
        },
        "id": "ACFXCQuygngZ",
        "outputId": "f599d936-e54a-46f6-ca8b-a4737b94860c"
      },
      "execution_count": 29,
      "outputs": [
        {
          "output_type": "execute_result",
          "data": {
            "text/plain": [
              "array([2851., 1378.,  741., 4526.,  151.])"
            ]
          },
          "metadata": {},
          "execution_count": 29
        }
      ]
    },
    {
      "cell_type": "markdown",
      "metadata": {
        "id": "rFzf1ZmGAtSO"
      },
      "source": [
        "We obtained 0.80 of accuracy in predicting the transportation mode of an edge, and the prediction seem to be fairly balanced"
      ]
    },
    {
      "cell_type": "markdown",
      "metadata": {
        "id": "mnEs9w5UAtSO"
      },
      "source": [
        "#### Node2Vec on Colab"
      ]
    },
    {
      "cell_type": "code",
      "execution_count": 58,
      "metadata": {
        "colab": {
          "base_uri": "https://localhost:8080/"
        },
        "id": "gX3HY-nzhYP1",
        "outputId": "654b5210-d4fd-4395-849e-15273c7d07fe"
      },
      "outputs": [
        {
          "output_type": "stream",
          "name": "stdout",
          "text": [
            "Weighted f1 score: 0.8899344839579202\n"
          ]
        }
      ],
      "source": [
        "features_node2vec = Node2Vec_node_feature_extraction(G, num_features=128, p=0.5, q=10.0, seed=0)\n",
        "features_edge_node2vec = edge_feature_extraction(features_node2vec, G)\n",
        "f1,y_pred,y_test = classifier(features_edge_node2vec, targets, None, feature_selection=False, verbose=True)\n",
        "#^^^^^^^^^^^^^^^^^^^^^^^^^^^^^^^^^^^^^^^^^^^^^^^^^^^^^^^^^^^^^^^^^^^^^^^^^^^^^^^"
      ]
    },
    {
      "cell_type": "code",
      "source": [
        "precision = metrics.precision_score(y_test, y_pred, average='weighted')\n",
        "recall = metrics.recall_score(y_test, y_pred, average='weighted')\n",
        "f1 = metrics.f1_score(y_test, y_pred, average='weighted')\n",
        "print(\"Precision:\", precision)\n",
        "print(\"Recall:\", recall)\n",
        "print(\"F1-score:\", f1)"
      ],
      "metadata": {
        "colab": {
          "base_uri": "https://localhost:8080/"
        },
        "id": "D-Hk4htjp80Q",
        "outputId": "7707aa53-66f2-47a7-cedd-0c81ce416b96"
      },
      "execution_count": 59,
      "outputs": [
        {
          "output_type": "stream",
          "name": "stdout",
          "text": [
            "Precision: 0.9030074195918979\n",
            "Recall: 0.884271523178808\n",
            "F1-score: 0.8899344839579202\n"
          ]
        }
      ]
    },
    {
      "cell_type": "code",
      "source": [
        "#check which index has 1 and count how many times, in y_test\n",
        "y_pred.sum(axis=0)"
      ],
      "metadata": {
        "colab": {
          "base_uri": "https://localhost:8080/"
        },
        "id": "ZCOOLu890XOE",
        "outputId": "6558eab8-4563-4a10-99fe-ec1b94876c11"
      },
      "execution_count": 34,
      "outputs": [
        {
          "output_type": "execute_result",
          "data": {
            "text/plain": [
              "array([ 310.,  124.,  196., 5204., 1508.])"
            ]
          },
          "metadata": {},
          "execution_count": 34
        }
      ]
    },
    {
      "cell_type": "code",
      "source": [
        "y_test.sum(axis=0)"
      ],
      "metadata": {
        "colab": {
          "base_uri": "https://localhost:8080/"
        },
        "id": "Ihqsoxb-lclT",
        "outputId": "42a28083-b25f-4008-9884-09635277ee36"
      },
      "execution_count": 35,
      "outputs": [
        {
          "output_type": "execute_result",
          "data": {
            "text/plain": [
              "array([4.960e+02, 1.820e+02, 2.540e+02, 5.104e+03, 4.000e+00])"
            ]
          },
          "metadata": {},
          "execution_count": 35
        }
      ]
    },
    {
      "cell_type": "markdown",
      "source": [
        "## GNN on colab"
      ],
      "metadata": {
        "id": "Ny3DowO8aAGE"
      }
    },
    {
      "cell_type": "code",
      "source": [
        "!pip install torch==2.0.0"
      ],
      "metadata": {
        "colab": {
          "base_uri": "https://localhost:8080/"
        },
        "id": "NKMRnpGs2l3Q",
        "outputId": "d25bb0db-5975-49f6-ac8f-4267cf852834"
      },
      "execution_count": 1,
      "outputs": [
        {
          "output_type": "stream",
          "name": "stdout",
          "text": [
            "Looking in indexes: https://pypi.org/simple, https://us-python.pkg.dev/colab-wheels/public/simple/\n",
            "Requirement already satisfied: torch==2.0.0 in /usr/local/lib/python3.10/dist-packages (2.0.0)\n",
            "Requirement already satisfied: filelock in /usr/local/lib/python3.10/dist-packages (from torch==2.0.0) (3.12.0)\n",
            "Requirement already satisfied: typing-extensions in /usr/local/lib/python3.10/dist-packages (from torch==2.0.0) (4.5.0)\n",
            "Requirement already satisfied: sympy in /usr/local/lib/python3.10/dist-packages (from torch==2.0.0) (1.11.1)\n",
            "Requirement already satisfied: networkx in /usr/local/lib/python3.10/dist-packages (from torch==2.0.0) (2.8.8)\n",
            "Requirement already satisfied: jinja2 in /usr/local/lib/python3.10/dist-packages (from torch==2.0.0) (3.1.2)\n",
            "Requirement already satisfied: nvidia-cuda-nvrtc-cu11==11.7.99 in /usr/local/lib/python3.10/dist-packages (from torch==2.0.0) (11.7.99)\n",
            "Requirement already satisfied: nvidia-cuda-runtime-cu11==11.7.99 in /usr/local/lib/python3.10/dist-packages (from torch==2.0.0) (11.7.99)\n",
            "Requirement already satisfied: nvidia-cuda-cupti-cu11==11.7.101 in /usr/local/lib/python3.10/dist-packages (from torch==2.0.0) (11.7.101)\n",
            "Requirement already satisfied: nvidia-cudnn-cu11==8.5.0.96 in /usr/local/lib/python3.10/dist-packages (from torch==2.0.0) (8.5.0.96)\n",
            "Requirement already satisfied: nvidia-cublas-cu11==11.10.3.66 in /usr/local/lib/python3.10/dist-packages (from torch==2.0.0) (11.10.3.66)\n",
            "Requirement already satisfied: nvidia-cufft-cu11==10.9.0.58 in /usr/local/lib/python3.10/dist-packages (from torch==2.0.0) (10.9.0.58)\n",
            "Requirement already satisfied: nvidia-curand-cu11==10.2.10.91 in /usr/local/lib/python3.10/dist-packages (from torch==2.0.0) (10.2.10.91)\n",
            "Requirement already satisfied: nvidia-cusolver-cu11==11.4.0.1 in /usr/local/lib/python3.10/dist-packages (from torch==2.0.0) (11.4.0.1)\n",
            "Requirement already satisfied: nvidia-cusparse-cu11==11.7.4.91 in /usr/local/lib/python3.10/dist-packages (from torch==2.0.0) (11.7.4.91)\n",
            "Requirement already satisfied: nvidia-nccl-cu11==2.14.3 in /usr/local/lib/python3.10/dist-packages (from torch==2.0.0) (2.14.3)\n",
            "Requirement already satisfied: nvidia-nvtx-cu11==11.7.91 in /usr/local/lib/python3.10/dist-packages (from torch==2.0.0) (11.7.91)\n",
            "Requirement already satisfied: triton==2.0.0 in /usr/local/lib/python3.10/dist-packages (from torch==2.0.0) (2.0.0)\n",
            "Requirement already satisfied: setuptools in /usr/local/lib/python3.10/dist-packages (from nvidia-cublas-cu11==11.10.3.66->torch==2.0.0) (67.7.2)\n",
            "Requirement already satisfied: wheel in /usr/local/lib/python3.10/dist-packages (from nvidia-cublas-cu11==11.10.3.66->torch==2.0.0) (0.40.0)\n",
            "Requirement already satisfied: cmake in /usr/local/lib/python3.10/dist-packages (from triton==2.0.0->torch==2.0.0) (3.25.2)\n",
            "Requirement already satisfied: lit in /usr/local/lib/python3.10/dist-packages (from triton==2.0.0->torch==2.0.0) (16.0.5)\n",
            "Requirement already satisfied: MarkupSafe>=2.0 in /usr/local/lib/python3.10/dist-packages (from jinja2->torch==2.0.0) (2.1.2)\n",
            "Requirement already satisfied: mpmath>=0.19 in /usr/local/lib/python3.10/dist-packages (from sympy->torch==2.0.0) (1.3.0)\n"
          ]
        }
      ]
    },
    {
      "cell_type": "code",
      "source": [
        "import torch \n",
        "\n",
        "def format_pytorch_version(version):\n",
        "  return version.split('+')[0]\n",
        "\n",
        "TORCH_version = torch.__version__\n",
        "TORCH = format_pytorch_version(TORCH_version)\n",
        "\n",
        "def format_cuda_version(version):\n",
        "  return 'cu' + version.replace('.', '')\n",
        "\n",
        "CUDA_version = torch.version.cuda\n",
        "CUDA = format_cuda_version(CUDA_version)\n",
        "\n",
        "!pip install torch-scatter     -f https://pytorch-geometric.com/whl/torch-{TORCH}+{CUDA}.html\n",
        "!pip install torch-sparse      -f https://pytorch-geometric.com/whl/torch-{TORCH}+{CUDA}.html\n",
        "!pip install torch-cluster     -f https://pytorch-geometric.com/whl/torch-{TORCH}+{CUDA}.html\n",
        "!pip install torch-spline-conv -f https://pytorch-geometric.com/whl/torch-{TORCH}+{CUDA}.html\n",
        "!pip install torch-geometric"
      ],
      "metadata": {
        "colab": {
          "base_uri": "https://localhost:8080/"
        },
        "id": "E38m4sGQaDfO",
        "outputId": "5c8f1d3d-ef04-4bcb-f3b9-4aba632a244d"
      },
      "execution_count": 2,
      "outputs": [
        {
          "output_type": "stream",
          "name": "stdout",
          "text": [
            "Looking in indexes: https://pypi.org/simple, https://us-python.pkg.dev/colab-wheels/public/simple/\n",
            "Looking in links: https://pytorch-geometric.com/whl/torch-2.0.0+cu117.html\n",
            "Requirement already satisfied: torch-scatter in /usr/local/lib/python3.10/dist-packages (2.1.1+pt20cu117)\n",
            "Looking in indexes: https://pypi.org/simple, https://us-python.pkg.dev/colab-wheels/public/simple/\n",
            "Looking in links: https://pytorch-geometric.com/whl/torch-2.0.0+cu117.html\n",
            "Requirement already satisfied: torch-sparse in /usr/local/lib/python3.10/dist-packages (0.6.17+pt20cu117)\n",
            "Requirement already satisfied: scipy in /usr/local/lib/python3.10/dist-packages (from torch-sparse) (1.10.1)\n",
            "Requirement already satisfied: numpy<1.27.0,>=1.19.5 in /usr/local/lib/python3.10/dist-packages (from scipy->torch-sparse) (1.22.4)\n",
            "Looking in indexes: https://pypi.org/simple, https://us-python.pkg.dev/colab-wheels/public/simple/\n",
            "Looking in links: https://pytorch-geometric.com/whl/torch-2.0.0+cu117.html\n",
            "Requirement already satisfied: torch-cluster in /usr/local/lib/python3.10/dist-packages (1.6.1+pt20cu117)\n",
            "Requirement already satisfied: scipy in /usr/local/lib/python3.10/dist-packages (from torch-cluster) (1.10.1)\n",
            "Requirement already satisfied: numpy<1.27.0,>=1.19.5 in /usr/local/lib/python3.10/dist-packages (from scipy->torch-cluster) (1.22.4)\n",
            "Looking in indexes: https://pypi.org/simple, https://us-python.pkg.dev/colab-wheels/public/simple/\n",
            "Looking in links: https://pytorch-geometric.com/whl/torch-2.0.0+cu117.html\n",
            "Requirement already satisfied: torch-spline-conv in /usr/local/lib/python3.10/dist-packages (1.2.2+pt20cu117)\n",
            "Looking in indexes: https://pypi.org/simple, https://us-python.pkg.dev/colab-wheels/public/simple/\n",
            "Requirement already satisfied: torch-geometric in /usr/local/lib/python3.10/dist-packages (2.3.1)\n",
            "Requirement already satisfied: tqdm in /usr/local/lib/python3.10/dist-packages (from torch-geometric) (4.65.0)\n",
            "Requirement already satisfied: numpy in /usr/local/lib/python3.10/dist-packages (from torch-geometric) (1.22.4)\n",
            "Requirement already satisfied: scipy in /usr/local/lib/python3.10/dist-packages (from torch-geometric) (1.10.1)\n",
            "Requirement already satisfied: jinja2 in /usr/local/lib/python3.10/dist-packages (from torch-geometric) (3.1.2)\n",
            "Requirement already satisfied: requests in /usr/local/lib/python3.10/dist-packages (from torch-geometric) (2.27.1)\n",
            "Requirement already satisfied: pyparsing in /usr/local/lib/python3.10/dist-packages (from torch-geometric) (3.0.9)\n",
            "Requirement already satisfied: scikit-learn in /usr/local/lib/python3.10/dist-packages (from torch-geometric) (1.2.2)\n",
            "Requirement already satisfied: psutil>=5.8.0 in /usr/local/lib/python3.10/dist-packages (from torch-geometric) (5.9.5)\n",
            "Requirement already satisfied: MarkupSafe>=2.0 in /usr/local/lib/python3.10/dist-packages (from jinja2->torch-geometric) (2.1.2)\n",
            "Requirement already satisfied: urllib3<1.27,>=1.21.1 in /usr/local/lib/python3.10/dist-packages (from requests->torch-geometric) (1.26.15)\n",
            "Requirement already satisfied: certifi>=2017.4.17 in /usr/local/lib/python3.10/dist-packages (from requests->torch-geometric) (2022.12.7)\n",
            "Requirement already satisfied: charset-normalizer~=2.0.0 in /usr/local/lib/python3.10/dist-packages (from requests->torch-geometric) (2.0.12)\n",
            "Requirement already satisfied: idna<4,>=2.5 in /usr/local/lib/python3.10/dist-packages (from requests->torch-geometric) (3.4)\n",
            "Requirement already satisfied: joblib>=1.1.1 in /usr/local/lib/python3.10/dist-packages (from scikit-learn->torch-geometric) (1.2.0)\n",
            "Requirement already satisfied: threadpoolctl>=2.0.0 in /usr/local/lib/python3.10/dist-packages (from scikit-learn->torch-geometric) (3.1.0)\n"
          ]
        }
      ]
    },
    {
      "cell_type": "code",
      "source": [
        "#####################################################\n",
        "################## PACKAGES #########################\n",
        "#####################################################\n",
        "import numpy as np\n",
        "import matplotlib.pyplot as plt\n",
        "import pandas as pd\n",
        "\n",
        "import torch.nn as nn\n",
        "import torch_geometric.nn as graphnn\n",
        "from sklearn.metrics import f1_score\n",
        "from torch_geometric.datasets import PPI\n",
        "from torch_geometric.loader import DataLoader"
      ],
      "metadata": {
        "id": "Kv6wCXWOaMG7"
      },
      "execution_count": 3,
      "outputs": []
    },
    {
      "cell_type": "code",
      "source": [
        "import pandas as pd\n",
        "import numpy as np\n",
        "import torch\n",
        "from torch_geometric.data import Data, DataLoader\n",
        "from torch_geometric.nn import GCNConv\n",
        "from sklearn.preprocessing import MultiLabelBinarizer\n",
        "from sklearn.model_selection import train_test_split\n",
        "from ast import literal_eval\n",
        "import torch.nn.functional as F\n",
        "from sklearn import metrics\n"
      ],
      "metadata": {
        "id": "aTkpfNFwabUc"
      },
      "execution_count": 23,
      "outputs": []
    },
    {
      "cell_type": "code",
      "source": [
        "import numpy as np\n",
        "import torch\n",
        "import random\n",
        "\n",
        "def set_seed(seed):\n",
        "    torch.manual_seed(seed)\n",
        "    torch.cuda.manual_seed(seed)\n",
        "    torch.cuda.manual_seed_all(seed)\n",
        "    np.random.seed(seed)\n",
        "    random.seed(seed)\n",
        "    torch.backends.cudnn.benchmark = False\n",
        "    torch.backends.cudnn.deterministic = True\n",
        "\n",
        "# Set seed for reproducibility\n",
        "set_seed(42)\n"
      ],
      "metadata": {
        "id": "_asjb4L6wr_g"
      },
      "execution_count": 5,
      "outputs": []
    },
    {
      "cell_type": "markdown",
      "source": [
        "### Multiple graphs"
      ],
      "metadata": {
        "id": "T9G41VTEgjqf"
      }
    },
    {
      "cell_type": "code",
      "source": [
        "import pandas as pd\n",
        "import torch\n",
        "import pandas as pd\n",
        "from torch_geometric.data import Data, Batch\n",
        "import os\n",
        "import networkx as nx\n",
        "\n",
        "def csv_to_data(edge_csv):\n",
        "    # Read CSV file\n",
        "    df = pd.read_csv(edge_csv)\n",
        "    nodes = sorted(list(set(df['from_stop_I']).union(set(df['to_stop_I']))))\n",
        "    node_mapping = {node: i for i, node in enumerate(nodes)}\n",
        "\n",
        "    # Apply this mapping to the 'from_stop_I' and 'to_stop_I' columns\n",
        "    df['from_stop_I'] = df['from_stop_I'].map(node_mapping)\n",
        "    df['to_stop_I'] = df['to_stop_I'].map(node_mapping)\n",
        "\n",
        "    edge_index = torch.tensor(df[[\"from_stop_I\",\"to_stop_I\"]].values, dtype=torch.long).t().contiguous()\n",
        "    df['label'] = df['label'].apply(literal_eval)  # convert string format list to actual list\n",
        "    y = torch.tensor(df[\"label\"].tolist(), dtype=torch.float)\n",
        "    edge_attr = torch.tensor(df[\"d\"].values, dtype=torch.float).unsqueeze(1)  # edge attributes must have an extra dimension\n",
        "\n",
        "    G = nx.DiGraph()\n",
        "    G.add_nodes_from(nodes)  # Initialize all nodes\n",
        "    G.add_edges_from(df[['from_stop_I', 'to_stop_I']].values)  # Add edges\n",
        "\n",
        "    # Calculate node features for all nodes in the graph\n",
        "    all_nodes = list(G.nodes)\n",
        "    degree = dict(G.degree(all_nodes))\n",
        "    #betweenness_centrality = nx.betweenness_centrality(G)\n",
        "    #clustering_coefficient = nx.clustering(G)\n",
        "    #closeness_centrality = nx.closeness_centrality(G)\n",
        "\n",
        "    # Prepare a DataFrame with node features\n",
        "    df_nodes = pd.DataFrame.from_dict([degree]).T\n",
        "    df_nodes.columns = ['degree']\n",
        "    nodes = np.array(nodes, dtype=np.int64)\n",
        "    df_nodes = df_nodes.reindex(nodes)  # Ensure the node features are in the correct order\n",
        "\n",
        "\n",
        "    x = torch.tensor(df_nodes.values, dtype=torch.float)\n",
        "\n",
        "    # Create Data object\n",
        "    data = Data(x=x, edge_index=edge_index, y=y, edge_attr=edge_attr) # Data(x=x,edge_index=edge_index,y=y,edge_attr=edge_attr)\n",
        "\n",
        "    return data\n",
        "\n",
        "# Use this function for every pair of csv files (edges and features) to create the data_list\n",
        "list_of_edges_csv = []\n",
        "for file_name in os.listdir(\"/content/processed_files\"):\n",
        "    file_path = os.path.join(\"/content/processed_files\", file_name)\n",
        "    # Check if the file is a CSV file\n",
        "    if file_path.endswith('.csv'):\n",
        "        list_of_edges_csv.append(file_path)\n",
        "\n",
        "data_list = [csv_to_data(edge_csv) for edge_csv in list_of_edges_csv]\n"
      ],
      "metadata": {
        "id": "9uqWugc2x-MR"
      },
      "execution_count": 6,
      "outputs": []
    },
    {
      "cell_type": "code",
      "source": [
        "batch = Batch.from_data_list(data_list)\n",
        "batch"
      ],
      "metadata": {
        "colab": {
          "base_uri": "https://localhost:8080/"
        },
        "id": "MSGKO_-b0Li6",
        "outputId": "5b61ece9-3a74-4534-9d8e-8b4c307452e6"
      },
      "execution_count": 7,
      "outputs": [
        {
          "output_type": "execute_result",
          "data": {
            "text/plain": [
              "DataBatch(x=[144276, 1], edge_index=[2, 180962], edge_attr=[180962, 1], y=[180962, 5], batch=[144276], ptr=[26])"
            ]
          },
          "metadata": {},
          "execution_count": 7
        }
      ]
    },
    {
      "cell_type": "code",
      "source": [
        "from torch_geometric.data import Batch, Data\n",
        "\n",
        "# Convert the batch back to a list of data objects\n",
        "data_list = data_list\n",
        "\n",
        "# Initialize lists for train, validation, and test data objects\n",
        "train_data_list = []\n",
        "valid_data_list = []\n",
        "test_data_list = []\n",
        "\n",
        "# Specify the ratios\n",
        "train_ratio = 0.8\n",
        "valid_ratio = 0.1\n",
        "# Note: test_ratio = 0.1\n",
        "\n",
        "# Perform train/validation/test split on each data object\n",
        "for data in data_list:\n",
        "    num_edges = data.edge_index.size(1)\n",
        "\n",
        "    # Calculate the number of edges for train, validation, and test\n",
        "    train_size = int(num_edges * train_ratio)\n",
        "    valid_size = int(num_edges * valid_ratio)\n",
        "\n",
        "    # Create a random permutation of indices\n",
        "    perm = torch.randperm(num_edges)\n",
        "\n",
        "    # Split the edge_index, edge_attr, y, etc. for training data\n",
        "    train_data = Data(x=data.x,edge_index=data.edge_index[:, perm[:train_size]], edge_attr=data.edge_attr[perm[:train_size]], y=data.y[perm[:train_size]])\n",
        "    train_data_list.append(train_data)\n",
        "\n",
        "    # Split the edge_index, edge_attr, y, etc. for validation data\n",
        "    valid_data = Data(x=data.x,edge_index=data.edge_index[:, perm[train_size:train_size+valid_size]], edge_attr=data.edge_attr[perm[train_size:train_size+valid_size]], y=data.y[perm[train_size:train_size+valid_size]])\n",
        "    valid_data_list.append(valid_data)\n",
        "\n",
        "    # Split the edge_index, edge_attr, y, etc. for test data\n",
        "    test_data = Data(x=data.x,edge_index=data.edge_index[:, perm[train_size+valid_size:]], edge_attr=data.edge_attr[perm[train_size+valid_size:]], y=data.y[perm[train_size+valid_size:]])\n",
        "    test_data_list.append(test_data)\n",
        "\n",
        "# Convert the lists of data objects back to batches\n",
        "train_batch = Batch.from_data_list(train_data_list)\n",
        "valid_batch = Batch.from_data_list(valid_data_list)\n",
        "test_batch = Batch.from_data_list(test_data_list)\n"
      ],
      "metadata": {
        "id": "5eZBZuke13BZ"
      },
      "execution_count": 8,
      "outputs": []
    },
    {
      "cell_type": "code",
      "source": [
        "print(\"Number of nodes in train batch:\", train_batch.num_nodes)\n",
        "print(\"Number of edges in train batch:\", train_batch.num_edges)\n",
        "\n",
        "print(\"Number of nodes in test batch:\", test_batch.num_nodes)\n",
        "print(\"Number of edges in test batch:\", test_batch.num_edges)\n"
      ],
      "metadata": {
        "colab": {
          "base_uri": "https://localhost:8080/"
        },
        "id": "KWEX8-mq2ZHY",
        "outputId": "ed39ac2e-dec8-4a61-a49a-0374eccfc89f"
      },
      "execution_count": 9,
      "outputs": [
        {
          "output_type": "stream",
          "name": "stdout",
          "text": [
            "Number of nodes in train batch: 144276\n",
            "Number of edges in train batch: 144757\n",
            "Number of nodes in test batch: 144276\n",
            "Number of edges in test batch: 18121\n"
          ]
        }
      ]
    },
    {
      "cell_type": "code",
      "source": [
        "train_batch"
      ],
      "metadata": {
        "colab": {
          "base_uri": "https://localhost:8080/"
        },
        "id": "2ocF_CPT4JSX",
        "outputId": "bb7000c0-26fd-45d5-e674-8352b3beb676"
      },
      "execution_count": 10,
      "outputs": [
        {
          "output_type": "execute_result",
          "data": {
            "text/plain": [
              "DataBatch(x=[144276, 1], edge_index=[2, 144757], edge_attr=[144757, 1], y=[144757, 5], batch=[144276], ptr=[26])"
            ]
          },
          "metadata": {},
          "execution_count": 10
        }
      ]
    },
    {
      "cell_type": "code",
      "source": [
        "edge_labels_np = train_batch.y.cpu().numpy()"
      ],
      "metadata": {
        "id": "PiPh3ltH4EHk"
      },
      "execution_count": 11,
      "outputs": []
    },
    {
      "cell_type": "code",
      "source": [
        "t = train_batch.y.sum(axis=0)\n",
        "float_tensor = t.tolist()\n",
        "\n",
        "# Print the numbers without exponential notation\n",
        "formatted_numbers = [f'{num:.0f}' for num in float_tensor]\n",
        "print(formatted_numbers)"
      ],
      "metadata": {
        "colab": {
          "base_uri": "https://localhost:8080/"
        },
        "id": "8HwuIANc4biz",
        "outputId": "660adfeb-bc51-4cd1-87f2-f4c8e8469d07"
      },
      "execution_count": 12,
      "outputs": [
        {
          "output_type": "stream",
          "name": "stdout",
          "text": [
            "['4163', '1272', '3572', '135866', '477']\n"
          ]
        }
      ]
    },
    {
      "cell_type": "code",
      "source": [
        "import numpy as np\n",
        "import torch\n",
        "\n",
        "# Assume edge_labels is your one-hot encoded labels and edge_index is your edge pairs in train_batch\n",
        "# Convert edge labels to numpy for easy manipulation\n",
        "edge_labels_np = train_batch.y.cpu().numpy()\n",
        "\n",
        "# This will hold the final balanced indices\n",
        "balanced_indices = []\n",
        "\n",
        "# Loop over each class\n",
        "# Loop over each class\n",
        "for class_idx in range(edge_labels_np.shape[1]):\n",
        "    # Get indices of positive and negative samples for this class\n",
        "    positive_indices = np.where(edge_labels_np[:, class_idx] == 1)[0]\n",
        "    negative_indices = np.where(edge_labels_np[:, class_idx] == 0)[0]\n",
        "\n",
        "    # If there's no positive samples for this class, we skip it\n",
        "    if len(positive_indices) == 0:\n",
        "        continue\n",
        "\n",
        "    # Determine which set of indices is the majority\n",
        "    majority_indices = positive_indices if len(positive_indices) > len(negative_indices) else negative_indices\n",
        "    minority_indices = negative_indices if majority_indices is positive_indices else positive_indices\n",
        "\n",
        "    # Downsample the majority class to have same number of samples as the minority class\n",
        "    # Downsample class_idx 3 much more\n",
        "    if class_idx == 3:\n",
        "        downsampled_majority_indices = np.random.choice(majority_indices, len(minority_indices) // 2, replace=False)  # Downsample by half\n",
        "    else:\n",
        "        downsampled_majority_indices = np.random.choice(majority_indices, len(minority_indices), replace=False)\n",
        "\n",
        "    # Combine the downsampled majority indices with the minority indices\n",
        "    class_balanced_indices = np.concatenate((downsampled_majority_indices, minority_indices))\n",
        "\n",
        "    # Add these indices to our final list of balanced indices\n",
        "    balanced_indices.append(class_balanced_indices)\n",
        "\n",
        "# Flatten the list of balanced indices and remove duplicates\n",
        "balanced_indices = list(set(np.hstack(balanced_indices)))\n",
        "\n",
        "# Convert balanced_indices back to a tensor\n",
        "balanced_indices = torch.tensor(balanced_indices, dtype=torch.long)\n",
        "\n",
        "# Get the balanced edge_index and edge_labels\n",
        "train_batch.edge_index = train_batch.edge_index[:, balanced_indices]\n",
        "train_batch.y = train_batch.y[balanced_indices]\n",
        "\n",
        "# If there are other attributes such as edge_attr parallel to edge_index and edge_labels,\n",
        "# don't forget to select the corresponding elements using balanced_indices.\n",
        "# For example:\n",
        "train_batch.edge_attr = train_batch.edge_attr[balanced_indices]\n"
      ],
      "metadata": {
        "id": "fLqEXxAL0fmJ"
      },
      "execution_count": 13,
      "outputs": []
    },
    {
      "cell_type": "code",
      "source": [
        "t = train_batch.y.sum(axis=0)\n",
        "float_tensor = t.tolist()\n",
        "\n",
        "# Print the numbers without exponential notation\n",
        "formatted_numbers = [f'{num:.0f}' for num in float_tensor]\n",
        "print(formatted_numbers)"
      ],
      "metadata": {
        "colab": {
          "base_uri": "https://localhost:8080/"
        },
        "id": "xkIRX6sK5SGg",
        "outputId": "8e47559b-c01a-4b04-f536-390d2437f75a"
      },
      "execution_count": 14,
      "outputs": [
        {
          "output_type": "stream",
          "name": "stdout",
          "text": [
            "['4163', '1272', '3572', '13571', '477']\n"
          ]
        }
      ]
    },
    {
      "cell_type": "code",
      "source": [
        "print(\"Number of nodes in train batch:\", train_batch.num_nodes)\n",
        "print(\"Number of edges in train batch:\", train_batch.num_edges)\n",
        "print(\"Number of labels:\",train_batch.y.size())"
      ],
      "metadata": {
        "colab": {
          "base_uri": "https://localhost:8080/"
        },
        "id": "w97yGrIm4955",
        "outputId": "de7c9a53-255f-420d-865e-d0efb090da29"
      },
      "execution_count": 15,
      "outputs": [
        {
          "output_type": "stream",
          "name": "stdout",
          "text": [
            "Number of nodes in train batch: 144276\n",
            "Number of edges in train batch: 22462\n",
            "Number of labels: torch.Size([22462, 5])\n"
          ]
        }
      ]
    },
    {
      "cell_type": "code",
      "source": [
        "class GATGNN(torch.nn.Module):\n",
        "    def __init__(self, hidden_channels):\n",
        "        super(GATGNN, self).__init__()\n",
        "        self.gat1 = graphnn.GATConv(train_batch.x.size()[1], hidden_channels, heads=4)\n",
        "        self.gat2 = graphnn.GATConv(hidden_channels*4, hidden_channels, heads=4)\n",
        "        self.gat3 = graphnn.GATConv(hidden_channels*4, train_batch.y.size()[1], heads=6)\n",
        "\n",
        "        self.linear = nn.Linear(train_batch.y.size()[1]*6,train_batch.y.size()[1])\n",
        "\n",
        "        self.edge_classifier = nn.Linear(train_batch.y.size()[1]*2, train_batch.y.size()[1])\n",
        "\n",
        "        self.elu = nn.ELU()\n",
        "\n",
        "    def forward(self, data):\n",
        "        x, edge_index, edge_attr = data.x, data.edge_index, data.edge_attr\n",
        "        x = self.gat1(x, edge_index,edge_attr)\n",
        "        x = self.elu(x)\n",
        "        x = self.gat2(x, edge_index,edge_attr)\n",
        "        x = self.elu(x)\n",
        "        x = self.gat3(x, edge_index,edge_attr)\n",
        "        x = self.linear(x)\n",
        "        \n",
        "        # Generate edge features\n",
        "        source_node_features = x[edge_index[0]]\n",
        "        target_node_features = x[edge_index[1]]\n",
        "        edge_features = torch.cat([source_node_features, target_node_features], dim=-1)\n",
        "\n",
        "        # Edge-level prediction\n",
        "        edge_out = self.edge_classifier(edge_features)\n",
        "        return edge_out"
      ],
      "metadata": {
        "id": "HkG0Q92aCYoC"
      },
      "execution_count": 16,
      "outputs": []
    },
    {
      "cell_type": "code",
      "source": [
        "class GNN(torch.nn.Module):\n",
        "    def __init__(self, hidden_channels):\n",
        "        super(GNN, self).__init__()\n",
        "        self.conv1 = GCNConv(train_batch.x.size()[1], hidden_channels)\n",
        "        self.conv2 = GCNConv(hidden_channels, hidden_channels)\n",
        "        self.edge_classifier = torch.nn.Linear(hidden_channels*2, train_batch.y.size()[1])  # Predicts edge attributes\n",
        "\n",
        "\n",
        "    def forward(self, data):\n",
        "        x, edge_index = data.x, data.edge_index\n",
        "        x = self.conv1(x, edge_index)\n",
        "        x = x.relu()\n",
        "        x = self.conv2(x, edge_index)\n",
        "        x = x.relu()\n",
        "        x = F.dropout(x, p=0.5, training=self.training)\n",
        "        \n",
        "        # Generate edge features\n",
        "        source_node_features = x[edge_index[0]]\n",
        "        target_node_features = x[edge_index[1]]\n",
        "        edge_features = torch.cat([source_node_features, target_node_features], dim=-1)\n",
        "\n",
        "        # Edge-level prediction\n",
        "        edge_out = self.edge_classifier(edge_features)\n",
        "        return edge_out"
      ],
      "metadata": {
        "id": "G3sQyunhBaU2"
      },
      "execution_count": 17,
      "outputs": []
    },
    {
      "cell_type": "code",
      "source": [
        "def train(model):\n",
        "    model.train()\n",
        "    optimizer.zero_grad()\n",
        "    out = model(train_batch)\n",
        "    loss = criterion(out, train_batch.y)\n",
        "    loss.backward()\n",
        "    optimizer.step()\n",
        "    return loss.item()"
      ],
      "metadata": {
        "id": "iWPYzwCBBwx4"
      },
      "execution_count": 18,
      "outputs": []
    },
    {
      "cell_type": "code",
      "source": [
        "import matplotlib.pyplot as plt\n",
        "\n",
        "def plot_losses(losses,valid_losses,f1_scores,model_name):\n",
        "  plt.figure(figsize=(12, 6))\n",
        "\n",
        "  # Plot losses\n",
        "  plt.subplot(1, 2, 1)\n",
        "  plt.plot(losses, label='Train Loss')\n",
        "  plt.plot(valid_losses, label='Validation Loss')\n",
        "  plt.xlabel('Epoch')\n",
        "  plt.ylabel('Loss')\n",
        "  plt.title('Loss vs. Epoch')\n",
        "  plt.legend()\n",
        "\n",
        "  # Plot F1 scores\n",
        "  plt.subplot(1, 2, 2)\n",
        "  plt.plot(f1_scores, label='F1 Score')\n",
        "  plt.xlabel('Epoch')\n",
        "  plt.ylabel('F1 Score')\n",
        "  plt.title('F1 Score vs. Epoch')\n",
        "  plt.legend()\n",
        "\n",
        "  plt.tight_layout()\n",
        "  plt.savefig(f\"{model_name}_plots\")\n",
        "  plt.show()"
      ],
      "metadata": {
        "id": "s0WzEXxv_e0W"
      },
      "execution_count": 19,
      "outputs": []
    },
    {
      "cell_type": "code",
      "source": [
        "def train_all(model,lr=0.002,epochs=50):\n",
        "  optimizer = torch.optim.Adam(model.parameters(),lr=lr)#,weight_decay=5e-4)#optimizer = torch.optim.Adam(model.parameters(), lr=0.01, weight_decay=5e-4)\n",
        "  criterion = torch.nn.BCEWithLogitsLoss()\n",
        "\n",
        "  # Lists to store losses and f1 scores\n",
        "  train_losses = []\n",
        "  valid_losses = []\n",
        "  f1_scores = []\n",
        "\n",
        "  for epoch in range(epochs):\n",
        "      model.train()\n",
        "      optimizer.zero_grad()\n",
        "      out = model(train_batch)\n",
        "      loss = criterion(out, train_batch.y)\n",
        "      loss.backward()\n",
        "      optimizer.step()\n",
        "      train_losses.append(loss.item())\n",
        "\n",
        "      # Evaluation phase\n",
        "      model.eval()\n",
        "\n",
        "      # Make predictions on the test set\n",
        "      with torch.no_grad():\n",
        "          valid_out = model(valid_batch)\n",
        "          valid_loss = criterion(valid_out, valid_batch.y)\n",
        "          valid_losses.append(valid_loss.item())\n",
        "          \n",
        "           # Make predictions on the test set\n",
        "          test_pred = model(test_batch)\n",
        "          test_pred = (torch.sigmoid(test_pred) > 0.5).float()\n",
        "\n",
        "          # Calculate the F1 score\n",
        "          f1 = f1_score(test_batch.y.numpy(), test_pred.numpy(), average='micro')\n",
        "          f1_scores.append(f1)\n",
        "\n",
        "      print(f\"Epoch: {epoch+1}, Train Loss: {loss}, Validation Loss: {valid_loss}, F1 Score: {f1}\")\n",
        "\n",
        "  precision = metrics.precision_score(test_batch.y.numpy(), test_pred.numpy(), average='micro')\n",
        "  recall = metrics.recall_score(test_batch.y.numpy(), test_pred.numpy(), average='micro')\n",
        "  f1 = metrics.f1_score(test_batch.y.numpy(), test_pred.numpy(), average='micro')\n",
        "  print(\"Precision:\", precision)\n",
        "  print(\"Recall:\", recall)\n",
        "  print(\"F1-score:\", f1)\n",
        "\n",
        "  predicted_labels = test_pred.numpy()\n",
        "  counts = np.sum(predicted_labels, axis=0)\n",
        "\n",
        "    # Assuming test_pred is your model's predictions and they are already binarized\n",
        "  predicted_labels = test_pred.numpy()\n",
        "\n",
        "  # Sum along the sample axis to get count of predictions for each class\n",
        "  counts = np.sum(predicted_labels, axis=0)\n",
        "\n",
        "  for i, count in enumerate(counts):\n",
        "      print(f\"Class {i} is predicted {count} times.\")\n",
        "\n",
        "  plot_losses(train_losses, valid_losses, f1_scores,type(model).__name__)\n"
      ],
      "metadata": {
        "id": "Ar7miJYFBxLz"
      },
      "execution_count": 28,
      "outputs": []
    },
    {
      "cell_type": "code",
      "source": [
        "#gnn\n",
        "model = GNN(hidden_channels=16)\n",
        "lr = 0.002\n",
        "train_all(model,lr,300)"
      ],
      "metadata": {
        "colab": {
          "base_uri": "https://localhost:8080/",
          "height": 1000
        },
        "id": "Iw8nTDwksVed",
        "outputId": "53782603-ecc2-489e-810f-0dfc88ce89d9"
      },
      "execution_count": 32,
      "outputs": [
        {
          "output_type": "stream",
          "name": "stdout",
          "text": [
            "Epoch: 1, Train Loss: 0.6812658309936523, Validation Loss: 0.6669661402702332, F1 Score: 0.7644968827512234\n",
            "Epoch: 2, Train Loss: 0.6776957511901855, Validation Loss: 0.6616723537445068, F1 Score: 0.8277110178080208\n",
            "Epoch: 3, Train Loss: 0.6731175780296326, Validation Loss: 0.6562018990516663, F1 Score: 0.8381686089034082\n",
            "Epoch: 4, Train Loss: 0.6693342924118042, Validation Loss: 0.6504135131835938, F1 Score: 0.840863576417721\n",
            "Epoch: 5, Train Loss: 0.6657223701477051, Validation Loss: 0.6443873643875122, F1 Score: 0.8436367198981093\n",
            "Epoch: 6, Train Loss: 0.6619887351989746, Validation Loss: 0.6382050514221191, F1 Score: 0.8446775656266085\n",
            "Epoch: 7, Train Loss: 0.6574957966804504, Validation Loss: 0.6317769885063171, F1 Score: 0.8549644861669895\n",
            "Epoch: 8, Train Loss: 0.6538910865783691, Validation Loss: 0.6250922083854675, F1 Score: 0.8559996023461576\n",
            "Epoch: 9, Train Loss: 0.6487621665000916, Validation Loss: 0.6181420087814331, F1 Score: 0.8614183474300585\n",
            "Epoch: 10, Train Loss: 0.6444341540336609, Validation Loss: 0.6109175682067871, F1 Score: 0.862287445844081\n",
            "Epoch: 11, Train Loss: 0.6399797201156616, Validation Loss: 0.6034153699874878, F1 Score: 0.8640754773793693\n",
            "Epoch: 12, Train Loss: 0.6357365250587463, Validation Loss: 0.5956410765647888, F1 Score: 0.8649653370842961\n",
            "Epoch: 13, Train Loss: 0.6302828192710876, Validation Loss: 0.587600827217102, F1 Score: 0.8659358342552549\n",
            "Epoch: 14, Train Loss: 0.6254523396492004, Validation Loss: 0.5792993903160095, F1 Score: 0.8674389322588768\n",
            "Epoch: 15, Train Loss: 0.6213722825050354, Validation Loss: 0.5707525610923767, F1 Score: 0.8681099881543463\n",
            "Epoch: 16, Train Loss: 0.6159886121749878, Validation Loss: 0.5618939995765686, F1 Score: 0.86851926568489\n",
            "Epoch: 17, Train Loss: 0.6107165813446045, Validation Loss: 0.5525956749916077, F1 Score: 0.8700176812326346\n",
            "Epoch: 18, Train Loss: 0.6053661704063416, Validation Loss: 0.5429351925849915, F1 Score: 0.8706929241347927\n",
            "Epoch: 19, Train Loss: 0.5991715788841248, Validation Loss: 0.5329779982566833, F1 Score: 0.8725107676716494\n",
            "Epoch: 20, Train Loss: 0.5942886471748352, Validation Loss: 0.5228198170661926, F1 Score: 0.8754258402399958\n",
            "Epoch: 21, Train Loss: 0.5884209871292114, Validation Loss: 0.512499988079071, F1 Score: 0.8863659767274225\n",
            "Epoch: 22, Train Loss: 0.5824443697929382, Validation Loss: 0.5020633935928345, F1 Score: 0.8867025523475932\n",
            "Epoch: 23, Train Loss: 0.5776451826095581, Validation Loss: 0.4915550649166107, F1 Score: 0.8868624420401856\n",
            "Epoch: 24, Train Loss: 0.5700626373291016, Validation Loss: 0.48099929094314575, F1 Score: 0.9323585190885851\n",
            "Epoch: 25, Train Loss: 0.5652576684951782, Validation Loss: 0.4705216884613037, F1 Score: 0.9339869461044862\n",
            "Epoch: 26, Train Loss: 0.559044361114502, Validation Loss: 0.4601387679576874, F1 Score: 0.9339869461044862\n",
            "Epoch: 27, Train Loss: 0.5537990927696228, Validation Loss: 0.4498372972011566, F1 Score: 0.9339869461044862\n",
            "Epoch: 28, Train Loss: 0.5486541986465454, Validation Loss: 0.43965715169906616, F1 Score: 0.9339869461044862\n",
            "Epoch: 29, Train Loss: 0.5452466011047363, Validation Loss: 0.4296671450138092, F1 Score: 0.9339869461044862\n",
            "Epoch: 30, Train Loss: 0.537571907043457, Validation Loss: 0.41979944705963135, F1 Score: 0.9339869461044862\n",
            "Epoch: 31, Train Loss: 0.5329115986824036, Validation Loss: 0.4101102948188782, F1 Score: 0.9339869461044862\n",
            "Epoch: 32, Train Loss: 0.5295899510383606, Validation Loss: 0.40067410469055176, F1 Score: 0.9339869461044862\n",
            "Epoch: 33, Train Loss: 0.5246001482009888, Validation Loss: 0.3914991617202759, F1 Score: 0.9339869461044862\n",
            "Epoch: 34, Train Loss: 0.519463062286377, Validation Loss: 0.3825969994068146, F1 Score: 0.9339869461044862\n",
            "Epoch: 35, Train Loss: 0.5154680609703064, Validation Loss: 0.37401431798934937, F1 Score: 0.9339869461044862\n",
            "Epoch: 36, Train Loss: 0.5109045505523682, Validation Loss: 0.365786612033844, F1 Score: 0.9339869461044862\n",
            "Epoch: 37, Train Loss: 0.5065020322799683, Validation Loss: 0.35793349146842957, F1 Score: 0.9339869461044862\n",
            "Epoch: 38, Train Loss: 0.5027416348457336, Validation Loss: 0.35043999552726746, F1 Score: 0.9339869461044862\n",
            "Epoch: 39, Train Loss: 0.5005168318748474, Validation Loss: 0.3433382213115692, F1 Score: 0.9339869461044862\n",
            "Epoch: 40, Train Loss: 0.4941154718399048, Validation Loss: 0.3365973234176636, F1 Score: 0.9339869461044862\n",
            "Epoch: 41, Train Loss: 0.49143677949905396, Validation Loss: 0.33023983240127563, F1 Score: 0.9339869461044862\n",
            "Epoch: 42, Train Loss: 0.48787084221839905, Validation Loss: 0.3242565095424652, F1 Score: 0.9339869461044862\n",
            "Epoch: 43, Train Loss: 0.4855240285396576, Validation Loss: 0.31863701343536377, F1 Score: 0.9339869461044862\n",
            "Epoch: 44, Train Loss: 0.4838857054710388, Validation Loss: 0.31340086460113525, F1 Score: 0.9339869461044862\n",
            "Epoch: 45, Train Loss: 0.480773001909256, Validation Loss: 0.30851200222969055, F1 Score: 0.9339869461044862\n",
            "Epoch: 46, Train Loss: 0.479360967874527, Validation Loss: 0.30396485328674316, F1 Score: 0.9339869461044862\n",
            "Epoch: 47, Train Loss: 0.4734863340854645, Validation Loss: 0.2996874749660492, F1 Score: 0.9339869461044862\n",
            "Epoch: 48, Train Loss: 0.4725694954395294, Validation Loss: 0.2957099378108978, F1 Score: 0.9339869461044862\n",
            "Epoch: 49, Train Loss: 0.47149714827537537, Validation Loss: 0.292008638381958, F1 Score: 0.9339869461044862\n",
            "Epoch: 50, Train Loss: 0.46983155608177185, Validation Loss: 0.28856799006462097, F1 Score: 0.9339869461044862\n",
            "Epoch: 51, Train Loss: 0.4695970416069031, Validation Loss: 0.2853902280330658, F1 Score: 0.9339869461044862\n",
            "Epoch: 52, Train Loss: 0.4673771262168884, Validation Loss: 0.28243133425712585, F1 Score: 0.9339869461044862\n",
            "Epoch: 53, Train Loss: 0.4662018418312073, Validation Loss: 0.27970030903816223, F1 Score: 0.9339869461044862\n",
            "Epoch: 54, Train Loss: 0.46325963735580444, Validation Loss: 0.27711793780326843, F1 Score: 0.9339869461044862\n",
            "Epoch: 55, Train Loss: 0.461305171251297, Validation Loss: 0.27468442916870117, F1 Score: 0.9339869461044862\n",
            "Epoch: 56, Train Loss: 0.4636934995651245, Validation Loss: 0.27238306403160095, F1 Score: 0.9339869461044862\n",
            "Epoch: 57, Train Loss: 0.4615499675273895, Validation Loss: 0.27022749185562134, F1 Score: 0.9339869461044862\n",
            "Epoch: 58, Train Loss: 0.45974600315093994, Validation Loss: 0.26820608973503113, F1 Score: 0.9339869461044862\n",
            "Epoch: 59, Train Loss: 0.45883119106292725, Validation Loss: 0.2663114368915558, F1 Score: 0.9339869461044862\n",
            "Epoch: 60, Train Loss: 0.4559265375137329, Validation Loss: 0.26452118158340454, F1 Score: 0.9339869461044862\n",
            "Epoch: 61, Train Loss: 0.4547516703605652, Validation Loss: 0.2628328502178192, F1 Score: 0.9339869461044862\n",
            "Epoch: 62, Train Loss: 0.45602160692214966, Validation Loss: 0.2612975239753723, F1 Score: 0.9339869461044862\n",
            "Epoch: 63, Train Loss: 0.45279139280319214, Validation Loss: 0.25989076495170593, F1 Score: 0.9339869461044862\n",
            "Epoch: 64, Train Loss: 0.45542579889297485, Validation Loss: 0.2586630582809448, F1 Score: 0.9339869461044862\n",
            "Epoch: 65, Train Loss: 0.4536343216896057, Validation Loss: 0.25762036442756653, F1 Score: 0.9339869461044862\n",
            "Epoch: 66, Train Loss: 0.45180368423461914, Validation Loss: 0.25669941306114197, F1 Score: 0.9339869461044862\n",
            "Epoch: 67, Train Loss: 0.45131516456604004, Validation Loss: 0.2559490203857422, F1 Score: 0.9339869461044862\n",
            "Epoch: 68, Train Loss: 0.44855058193206787, Validation Loss: 0.25530508160591125, F1 Score: 0.9339869461044862\n",
            "Epoch: 69, Train Loss: 0.4484412670135498, Validation Loss: 0.2548157572746277, F1 Score: 0.9339869461044862\n",
            "Epoch: 70, Train Loss: 0.44866716861724854, Validation Loss: 0.25444942712783813, F1 Score: 0.9339869461044862\n",
            "Epoch: 71, Train Loss: 0.44540515542030334, Validation Loss: 0.2541581690311432, F1 Score: 0.9339869461044862\n",
            "Epoch: 72, Train Loss: 0.4461853504180908, Validation Loss: 0.25397953391075134, F1 Score: 0.9339869461044862\n",
            "Epoch: 73, Train Loss: 0.44764843583106995, Validation Loss: 0.25393834710121155, F1 Score: 0.9339869461044862\n",
            "Epoch: 74, Train Loss: 0.44235295057296753, Validation Loss: 0.2539103031158447, F1 Score: 0.9339869461044862\n",
            "Epoch: 75, Train Loss: 0.4432066082954407, Validation Loss: 0.2539408206939697, F1 Score: 0.9339869461044862\n",
            "Epoch: 76, Train Loss: 0.4428267776966095, Validation Loss: 0.2539946734905243, F1 Score: 0.9339869461044862\n",
            "Epoch: 77, Train Loss: 0.44127121567726135, Validation Loss: 0.2540559768676758, F1 Score: 0.9339869461044862\n",
            "Epoch: 78, Train Loss: 0.4412212371826172, Validation Loss: 0.25412696599960327, F1 Score: 0.9339869461044862\n",
            "Epoch: 79, Train Loss: 0.4396326541900635, Validation Loss: 0.25419434905052185, F1 Score: 0.9339869461044862\n",
            "Epoch: 80, Train Loss: 0.4388395845890045, Validation Loss: 0.25419488549232483, F1 Score: 0.9339869461044862\n",
            "Epoch: 81, Train Loss: 0.4379121661186218, Validation Loss: 0.25413092970848083, F1 Score: 0.9339869461044862\n",
            "Epoch: 82, Train Loss: 0.43903636932373047, Validation Loss: 0.2540973424911499, F1 Score: 0.9339869461044862\n",
            "Epoch: 83, Train Loss: 0.4371477961540222, Validation Loss: 0.2539878785610199, F1 Score: 0.9339869461044862\n",
            "Epoch: 84, Train Loss: 0.436552494764328, Validation Loss: 0.25386273860931396, F1 Score: 0.9339869461044862\n",
            "Epoch: 85, Train Loss: 0.4352280795574188, Validation Loss: 0.2536793649196625, F1 Score: 0.9339869461044862\n",
            "Epoch: 86, Train Loss: 0.43422603607177734, Validation Loss: 0.25343263149261475, F1 Score: 0.9339869461044862\n",
            "Epoch: 87, Train Loss: 0.43405941128730774, Validation Loss: 0.2531258165836334, F1 Score: 0.9339869461044862\n",
            "Epoch: 88, Train Loss: 0.43551957607269287, Validation Loss: 0.2528054714202881, F1 Score: 0.9339869461044862\n",
            "Epoch: 89, Train Loss: 0.4345117509365082, Validation Loss: 0.252451092004776, F1 Score: 0.9339869461044862\n",
            "Epoch: 90, Train Loss: 0.43308374285697937, Validation Loss: 0.2521023154258728, F1 Score: 0.9339869461044862\n",
            "Epoch: 91, Train Loss: 0.43355852365493774, Validation Loss: 0.25174689292907715, F1 Score: 0.9339869461044862\n",
            "Epoch: 92, Train Loss: 0.43199577927589417, Validation Loss: 0.25139760971069336, F1 Score: 0.9339869461044862\n",
            "Epoch: 93, Train Loss: 0.43205198645591736, Validation Loss: 0.2510463297367096, F1 Score: 0.9339869461044862\n",
            "Epoch: 94, Train Loss: 0.42722299695014954, Validation Loss: 0.25054848194122314, F1 Score: 0.9339869461044862\n",
            "Epoch: 95, Train Loss: 0.4275655150413513, Validation Loss: 0.2499701976776123, F1 Score: 0.9339869461044862\n",
            "Epoch: 96, Train Loss: 0.4292261600494385, Validation Loss: 0.24938347935676575, F1 Score: 0.9339869461044862\n",
            "Epoch: 97, Train Loss: 0.4280247390270233, Validation Loss: 0.24875813722610474, F1 Score: 0.9339869461044862\n",
            "Epoch: 98, Train Loss: 0.4258570373058319, Validation Loss: 0.24806144833564758, F1 Score: 0.9339869461044862\n",
            "Epoch: 99, Train Loss: 0.4278073310852051, Validation Loss: 0.2473883330821991, F1 Score: 0.9339869461044862\n",
            "Epoch: 100, Train Loss: 0.4294095039367676, Validation Loss: 0.24681073427200317, F1 Score: 0.9339869461044862\n",
            "Epoch: 101, Train Loss: 0.4227581024169922, Validation Loss: 0.24614956974983215, F1 Score: 0.9339869461044862\n",
            "Epoch: 102, Train Loss: 0.4253174066543579, Validation Loss: 0.2455136477947235, F1 Score: 0.9339869461044862\n",
            "Epoch: 103, Train Loss: 0.42298921942710876, Validation Loss: 0.24487099051475525, F1 Score: 0.9339869461044862\n",
            "Epoch: 104, Train Loss: 0.4257476031780243, Validation Loss: 0.24431027472019196, F1 Score: 0.9339869461044862\n",
            "Epoch: 105, Train Loss: 0.42474135756492615, Validation Loss: 0.24383044242858887, F1 Score: 0.9339869461044862\n",
            "Epoch: 106, Train Loss: 0.4223887026309967, Validation Loss: 0.24332913756370544, F1 Score: 0.9339869461044862\n",
            "Epoch: 107, Train Loss: 0.4235934615135193, Validation Loss: 0.24294234812259674, F1 Score: 0.9339869461044862\n",
            "Epoch: 108, Train Loss: 0.422750860452652, Validation Loss: 0.2425868958234787, F1 Score: 0.9339869461044862\n",
            "Epoch: 109, Train Loss: 0.41951823234558105, Validation Loss: 0.24226140975952148, F1 Score: 0.9339869461044862\n",
            "Epoch: 110, Train Loss: 0.4211241900920868, Validation Loss: 0.2419879138469696, F1 Score: 0.9339869461044862\n",
            "Epoch: 111, Train Loss: 0.4203045666217804, Validation Loss: 0.241701140999794, F1 Score: 0.9339869461044862\n",
            "Epoch: 112, Train Loss: 0.42129144072532654, Validation Loss: 0.24145451188087463, F1 Score: 0.9339869461044862\n",
            "Epoch: 113, Train Loss: 0.41907545924186707, Validation Loss: 0.24120751023292542, F1 Score: 0.9339869461044862\n",
            "Epoch: 114, Train Loss: 0.4187000095844269, Validation Loss: 0.24096301198005676, F1 Score: 0.9339869461044862\n",
            "Epoch: 115, Train Loss: 0.4172642230987549, Validation Loss: 0.2406834363937378, F1 Score: 0.9339869461044862\n",
            "Epoch: 116, Train Loss: 0.41767558455467224, Validation Loss: 0.24039442837238312, F1 Score: 0.9339869461044862\n",
            "Epoch: 117, Train Loss: 0.41812005639076233, Validation Loss: 0.2401348352432251, F1 Score: 0.9339869461044862\n",
            "Epoch: 118, Train Loss: 0.4178442358970642, Validation Loss: 0.23988492786884308, F1 Score: 0.9339869461044862\n",
            "Epoch: 119, Train Loss: 0.4158938527107239, Validation Loss: 0.239593505859375, F1 Score: 0.9339869461044862\n",
            "Epoch: 120, Train Loss: 0.41664430499076843, Validation Loss: 0.2393079698085785, F1 Score: 0.9339869461044862\n",
            "Epoch: 121, Train Loss: 0.41356831789016724, Validation Loss: 0.23894570767879486, F1 Score: 0.9339869461044862\n",
            "Epoch: 122, Train Loss: 0.41503283381462097, Validation Loss: 0.23855826258659363, F1 Score: 0.9339869461044862\n",
            "Epoch: 123, Train Loss: 0.4143138527870178, Validation Loss: 0.23818568885326385, F1 Score: 0.9339869461044862\n",
            "Epoch: 124, Train Loss: 0.41176503896713257, Validation Loss: 0.23773851990699768, F1 Score: 0.9339869461044862\n",
            "Epoch: 125, Train Loss: 0.41442057490348816, Validation Loss: 0.23733125627040863, F1 Score: 0.9339869461044862\n",
            "Epoch: 126, Train Loss: 0.4132762551307678, Validation Loss: 0.23696842789649963, F1 Score: 0.9339869461044862\n",
            "Epoch: 127, Train Loss: 0.4126802682876587, Validation Loss: 0.23665811121463776, F1 Score: 0.9339869461044862\n",
            "Epoch: 128, Train Loss: 0.41286852955818176, Validation Loss: 0.23641538619995117, F1 Score: 0.9339869461044862\n",
            "Epoch: 129, Train Loss: 0.4119594395160675, Validation Loss: 0.23615746200084686, F1 Score: 0.9339869461044862\n",
            "Epoch: 130, Train Loss: 0.41088786721229553, Validation Loss: 0.23591123521327972, F1 Score: 0.9339869461044862\n",
            "Epoch: 131, Train Loss: 0.4107663035392761, Validation Loss: 0.2356601059436798, F1 Score: 0.9339869461044862\n",
            "Epoch: 132, Train Loss: 0.4094763994216919, Validation Loss: 0.23535563051700592, F1 Score: 0.9339869461044862\n",
            "Epoch: 133, Train Loss: 0.41007158160209656, Validation Loss: 0.23504821956157684, F1 Score: 0.9339869461044862\n",
            "Epoch: 134, Train Loss: 0.4090598225593567, Validation Loss: 0.2347177118062973, F1 Score: 0.9339869461044862\n",
            "Epoch: 135, Train Loss: 0.40980902314186096, Validation Loss: 0.23444628715515137, F1 Score: 0.9339869461044862\n",
            "Epoch: 136, Train Loss: 0.41008856892585754, Validation Loss: 0.2341991513967514, F1 Score: 0.9339869461044862\n",
            "Epoch: 137, Train Loss: 0.4080219864845276, Validation Loss: 0.23396098613739014, F1 Score: 0.9339869461044862\n",
            "Epoch: 138, Train Loss: 0.40748298168182373, Validation Loss: 0.23368467390537262, F1 Score: 0.9339869461044862\n",
            "Epoch: 139, Train Loss: 0.41050785779953003, Validation Loss: 0.23352384567260742, F1 Score: 0.9339869461044862\n",
            "Epoch: 140, Train Loss: 0.40899455547332764, Validation Loss: 0.23340578377246857, F1 Score: 0.9339869461044862\n",
            "Epoch: 141, Train Loss: 0.4070659279823303, Validation Loss: 0.23326443135738373, F1 Score: 0.9339869461044862\n",
            "Epoch: 142, Train Loss: 0.4082607626914978, Validation Loss: 0.23312440514564514, F1 Score: 0.9339869461044862\n",
            "Epoch: 143, Train Loss: 0.40760931372642517, Validation Loss: 0.23299981653690338, F1 Score: 0.9339869461044862\n",
            "Epoch: 144, Train Loss: 0.4051520824432373, Validation Loss: 0.23282703757286072, F1 Score: 0.9339869461044862\n",
            "Epoch: 145, Train Loss: 0.4058949947357178, Validation Loss: 0.23261502385139465, F1 Score: 0.9339869461044862\n",
            "Epoch: 146, Train Loss: 0.4047490358352661, Validation Loss: 0.23232395946979523, F1 Score: 0.9339869461044862\n",
            "Epoch: 147, Train Loss: 0.403899222612381, Validation Loss: 0.23195286095142365, F1 Score: 0.9339869461044862\n",
            "Epoch: 148, Train Loss: 0.40583738684654236, Validation Loss: 0.23161722719669342, F1 Score: 0.9339869461044862\n",
            "Epoch: 149, Train Loss: 0.4050546884536743, Validation Loss: 0.23129847645759583, F1 Score: 0.9339869461044862\n",
            "Epoch: 150, Train Loss: 0.4050232768058777, Validation Loss: 0.23099561035633087, F1 Score: 0.9339869461044862\n",
            "Epoch: 151, Train Loss: 0.40374112129211426, Validation Loss: 0.23064520955085754, F1 Score: 0.9339869461044862\n",
            "Epoch: 152, Train Loss: 0.4046154320240021, Validation Loss: 0.2303459793329239, F1 Score: 0.9339869461044862\n",
            "Epoch: 153, Train Loss: 0.40225815773010254, Validation Loss: 0.23006737232208252, F1 Score: 0.9339869461044862\n",
            "Epoch: 154, Train Loss: 0.40269026160240173, Validation Loss: 0.2298067957162857, F1 Score: 0.9339869461044862\n",
            "Epoch: 155, Train Loss: 0.40248581767082214, Validation Loss: 0.22953616082668304, F1 Score: 0.9339869461044862\n",
            "Epoch: 156, Train Loss: 0.4015016555786133, Validation Loss: 0.22920997440814972, F1 Score: 0.9339869461044862\n",
            "Epoch: 157, Train Loss: 0.40116509795188904, Validation Loss: 0.2288392186164856, F1 Score: 0.9339869461044862\n",
            "Epoch: 158, Train Loss: 0.4003618061542511, Validation Loss: 0.22846101224422455, F1 Score: 0.9339869461044862\n",
            "Epoch: 159, Train Loss: 0.4012909233570099, Validation Loss: 0.228104829788208, F1 Score: 0.9339869461044862\n",
            "Epoch: 160, Train Loss: 0.4014240801334381, Validation Loss: 0.2277662605047226, F1 Score: 0.9339869461044862\n",
            "Epoch: 161, Train Loss: 0.40148425102233887, Validation Loss: 0.22749707102775574, F1 Score: 0.9339869461044862\n",
            "Epoch: 162, Train Loss: 0.39992132782936096, Validation Loss: 0.2272220253944397, F1 Score: 0.9339869461044862\n",
            "Epoch: 163, Train Loss: 0.40087172389030457, Validation Loss: 0.22703157365322113, F1 Score: 0.9339869461044862\n",
            "Epoch: 164, Train Loss: 0.39951854944229126, Validation Loss: 0.22681967914104462, F1 Score: 0.9339869461044862\n",
            "Epoch: 165, Train Loss: 0.3993280529975891, Validation Loss: 0.22661256790161133, F1 Score: 0.9339869461044862\n",
            "Epoch: 166, Train Loss: 0.398192435503006, Validation Loss: 0.22635401785373688, F1 Score: 0.9339869461044862\n",
            "Epoch: 167, Train Loss: 0.39663591980934143, Validation Loss: 0.22600902616977692, F1 Score: 0.9339869461044862\n",
            "Epoch: 168, Train Loss: 0.39880305528640747, Validation Loss: 0.2257128655910492, F1 Score: 0.9339869461044862\n",
            "Epoch: 169, Train Loss: 0.3982653021812439, Validation Loss: 0.22542840242385864, F1 Score: 0.9339869461044862\n",
            "Epoch: 170, Train Loss: 0.3985152840614319, Validation Loss: 0.22520656883716583, F1 Score: 0.9339869461044862\n",
            "Epoch: 171, Train Loss: 0.39698734879493713, Validation Loss: 0.22496193647384644, F1 Score: 0.9339869461044862\n",
            "Epoch: 172, Train Loss: 0.3972416818141937, Validation Loss: 0.2246781885623932, F1 Score: 0.9339869461044862\n",
            "Epoch: 173, Train Loss: 0.39633452892303467, Validation Loss: 0.22435949742794037, F1 Score: 0.9339869461044862\n",
            "Epoch: 174, Train Loss: 0.3968268036842346, Validation Loss: 0.22405216097831726, F1 Score: 0.9339869461044862\n",
            "Epoch: 175, Train Loss: 0.3959144651889801, Validation Loss: 0.2237614244222641, F1 Score: 0.9339869461044862\n",
            "Epoch: 176, Train Loss: 0.39812418818473816, Validation Loss: 0.2235254943370819, F1 Score: 0.9339869461044862\n",
            "Epoch: 177, Train Loss: 0.3963698744773865, Validation Loss: 0.22332997620105743, F1 Score: 0.9339869461044862\n",
            "Epoch: 178, Train Loss: 0.39635971188545227, Validation Loss: 0.22318752110004425, F1 Score: 0.9339869461044862\n",
            "Epoch: 179, Train Loss: 0.3962632119655609, Validation Loss: 0.22306303679943085, F1 Score: 0.9339869461044862\n",
            "Epoch: 180, Train Loss: 0.3954728841781616, Validation Loss: 0.2229439914226532, F1 Score: 0.9339869461044862\n",
            "Epoch: 181, Train Loss: 0.396786630153656, Validation Loss: 0.22285544872283936, F1 Score: 0.9339869461044862\n",
            "Epoch: 182, Train Loss: 0.3937908113002777, Validation Loss: 0.22271408140659332, F1 Score: 0.9339869461044862\n",
            "Epoch: 183, Train Loss: 0.395646870136261, Validation Loss: 0.2225993573665619, F1 Score: 0.9339869461044862\n",
            "Epoch: 184, Train Loss: 0.3946932554244995, Validation Loss: 0.22250376641750336, F1 Score: 0.9339869461044862\n",
            "Epoch: 185, Train Loss: 0.39392709732055664, Validation Loss: 0.2223690301179886, F1 Score: 0.9339869461044862\n",
            "Epoch: 186, Train Loss: 0.39480629563331604, Validation Loss: 0.2222680002450943, F1 Score: 0.9339869461044862\n",
            "Epoch: 187, Train Loss: 0.3927766680717468, Validation Loss: 0.22211013734340668, F1 Score: 0.9339869461044862\n",
            "Epoch: 188, Train Loss: 0.3942708373069763, Validation Loss: 0.22195403277873993, F1 Score: 0.9339869461044862\n",
            "Epoch: 189, Train Loss: 0.3929826021194458, Validation Loss: 0.2217951864004135, F1 Score: 0.9339869461044862\n",
            "Epoch: 190, Train Loss: 0.39404726028442383, Validation Loss: 0.22158987820148468, F1 Score: 0.9339869461044862\n",
            "Epoch: 191, Train Loss: 0.3945774435997009, Validation Loss: 0.2214752435684204, F1 Score: 0.9339869461044862\n",
            "Epoch: 192, Train Loss: 0.3923502266407013, Validation Loss: 0.2213199883699417, F1 Score: 0.9339869461044862\n",
            "Epoch: 193, Train Loss: 0.39350321888923645, Validation Loss: 0.22120793163776398, F1 Score: 0.9339869461044862\n",
            "Epoch: 194, Train Loss: 0.3928695619106293, Validation Loss: 0.2210441380739212, F1 Score: 0.9339869461044862\n",
            "Epoch: 195, Train Loss: 0.39101219177246094, Validation Loss: 0.22084316611289978, F1 Score: 0.9339869461044862\n",
            "Epoch: 196, Train Loss: 0.3935951590538025, Validation Loss: 0.22068357467651367, F1 Score: 0.9339869461044862\n",
            "Epoch: 197, Train Loss: 0.3921884000301361, Validation Loss: 0.22048769891262054, F1 Score: 0.9339869461044862\n",
            "Epoch: 198, Train Loss: 0.3928122818470001, Validation Loss: 0.22028647363185883, F1 Score: 0.9339869461044862\n",
            "Epoch: 199, Train Loss: 0.3925713002681732, Validation Loss: 0.22011524438858032, F1 Score: 0.9339869461044862\n",
            "Epoch: 200, Train Loss: 0.39242881536483765, Validation Loss: 0.2199988216161728, F1 Score: 0.9339869461044862\n",
            "Epoch: 201, Train Loss: 0.39190182089805603, Validation Loss: 0.21985898911952972, F1 Score: 0.9339869461044862\n",
            "Epoch: 202, Train Loss: 0.39210256934165955, Validation Loss: 0.2197008728981018, F1 Score: 0.9339869461044862\n",
            "Epoch: 203, Train Loss: 0.3919415771961212, Validation Loss: 0.21959754824638367, F1 Score: 0.9339869461044862\n",
            "Epoch: 204, Train Loss: 0.3913009464740753, Validation Loss: 0.2194993942975998, F1 Score: 0.9339869461044862\n",
            "Epoch: 205, Train Loss: 0.39102426171302795, Validation Loss: 0.21940629184246063, F1 Score: 0.9339869461044862\n",
            "Epoch: 206, Train Loss: 0.3911086916923523, Validation Loss: 0.21933935582637787, F1 Score: 0.9339869461044862\n",
            "Epoch: 207, Train Loss: 0.38852396607398987, Validation Loss: 0.21912354230880737, F1 Score: 0.9339869461044862\n",
            "Epoch: 208, Train Loss: 0.38986527919769287, Validation Loss: 0.21883416175842285, F1 Score: 0.9339869461044862\n",
            "Epoch: 209, Train Loss: 0.3910609483718872, Validation Loss: 0.21851679682731628, F1 Score: 0.9339869461044862\n",
            "Epoch: 210, Train Loss: 0.3904624283313751, Validation Loss: 0.2182372510433197, F1 Score: 0.9339869461044862\n",
            "Epoch: 211, Train Loss: 0.39108580350875854, Validation Loss: 0.21806815266609192, F1 Score: 0.9339869461044862\n",
            "Epoch: 212, Train Loss: 0.3886023461818695, Validation Loss: 0.21790066361427307, F1 Score: 0.9339869461044862\n",
            "Epoch: 213, Train Loss: 0.3893836736679077, Validation Loss: 0.21774868667125702, F1 Score: 0.9339869461044862\n",
            "Epoch: 214, Train Loss: 0.3894251585006714, Validation Loss: 0.21758504211902618, F1 Score: 0.9339869461044862\n",
            "Epoch: 215, Train Loss: 0.3892705738544464, Validation Loss: 0.21742579340934753, F1 Score: 0.9339869461044862\n",
            "Epoch: 216, Train Loss: 0.38888153433799744, Validation Loss: 0.21729938685894012, F1 Score: 0.9339869461044862\n",
            "Epoch: 217, Train Loss: 0.3886682689189911, Validation Loss: 0.21719993650913239, F1 Score: 0.9339869461044862\n",
            "Epoch: 218, Train Loss: 0.39038628339767456, Validation Loss: 0.2171645313501358, F1 Score: 0.9339869461044862\n",
            "Epoch: 219, Train Loss: 0.38950487971305847, Validation Loss: 0.2171146422624588, F1 Score: 0.9339869461044862\n",
            "Epoch: 220, Train Loss: 0.38926175236701965, Validation Loss: 0.21707776188850403, F1 Score: 0.9339869461044862\n",
            "Epoch: 221, Train Loss: 0.3890535533428192, Validation Loss: 0.21704863011837006, F1 Score: 0.9339869461044862\n",
            "Epoch: 222, Train Loss: 0.3903267979621887, Validation Loss: 0.21706877648830414, F1 Score: 0.9339869461044862\n",
            "Epoch: 223, Train Loss: 0.3882691562175751, Validation Loss: 0.21712231636047363, F1 Score: 0.9339869461044862\n",
            "Epoch: 224, Train Loss: 0.39026787877082825, Validation Loss: 0.21721096336841583, F1 Score: 0.9339869461044862\n",
            "Epoch: 225, Train Loss: 0.3883931636810303, Validation Loss: 0.21731051802635193, F1 Score: 0.9339869461044862\n",
            "Epoch: 226, Train Loss: 0.389622300863266, Validation Loss: 0.21739359200000763, F1 Score: 0.9339869461044862\n",
            "Epoch: 227, Train Loss: 0.3884052336215973, Validation Loss: 0.21737946569919586, F1 Score: 0.9339869461044862\n",
            "Epoch: 228, Train Loss: 0.3883185088634491, Validation Loss: 0.21732783317565918, F1 Score: 0.9339869461044862\n",
            "Epoch: 229, Train Loss: 0.3880259692668915, Validation Loss: 0.21721795201301575, F1 Score: 0.9339869461044862\n",
            "Epoch: 230, Train Loss: 0.3869689702987671, Validation Loss: 0.21706168353557587, F1 Score: 0.9339869461044862\n",
            "Epoch: 231, Train Loss: 0.38659363985061646, Validation Loss: 0.2168155014514923, F1 Score: 0.9339869461044862\n",
            "Epoch: 232, Train Loss: 0.38751572370529175, Validation Loss: 0.21661046147346497, F1 Score: 0.9339869461044862\n",
            "Epoch: 233, Train Loss: 0.3860760033130646, Validation Loss: 0.21634356677532196, F1 Score: 0.9339869461044862\n",
            "Epoch: 234, Train Loss: 0.38862085342407227, Validation Loss: 0.21617624163627625, F1 Score: 0.9339869461044862\n",
            "Epoch: 235, Train Loss: 0.388434499502182, Validation Loss: 0.21607647836208344, F1 Score: 0.9339869461044862\n",
            "Epoch: 236, Train Loss: 0.3873575031757355, Validation Loss: 0.2159864604473114, F1 Score: 0.9339869461044862\n",
            "Epoch: 237, Train Loss: 0.3870936930179596, Validation Loss: 0.21590036153793335, F1 Score: 0.9339869461044862\n",
            "Epoch: 238, Train Loss: 0.3858882486820221, Validation Loss: 0.2157793939113617, F1 Score: 0.9339869461044862\n",
            "Epoch: 239, Train Loss: 0.3874228596687317, Validation Loss: 0.21573348343372345, F1 Score: 0.9339869461044862\n",
            "Epoch: 240, Train Loss: 0.3862278461456299, Validation Loss: 0.21567724645137787, F1 Score: 0.9339869461044862\n",
            "Epoch: 241, Train Loss: 0.3872574269771576, Validation Loss: 0.2156457006931305, F1 Score: 0.9339869461044862\n",
            "Epoch: 242, Train Loss: 0.3866371214389801, Validation Loss: 0.21562932431697845, F1 Score: 0.9339869461044862\n",
            "Epoch: 243, Train Loss: 0.3899877667427063, Validation Loss: 0.2157193124294281, F1 Score: 0.9339869461044862\n",
            "Epoch: 244, Train Loss: 0.38687410950660706, Validation Loss: 0.21572768688201904, F1 Score: 0.9339869461044862\n",
            "Epoch: 245, Train Loss: 0.3855721652507782, Validation Loss: 0.2157200425863266, F1 Score: 0.9339869461044862\n",
            "Epoch: 246, Train Loss: 0.3861734867095947, Validation Loss: 0.2156512290239334, F1 Score: 0.9339869461044862\n",
            "Epoch: 247, Train Loss: 0.3866923153400421, Validation Loss: 0.2155827432870865, F1 Score: 0.9339869461044862\n",
            "Epoch: 248, Train Loss: 0.38475894927978516, Validation Loss: 0.2154034823179245, F1 Score: 0.9339869461044862\n",
            "Epoch: 249, Train Loss: 0.38596752285957336, Validation Loss: 0.21523743867874146, F1 Score: 0.9339869461044862\n",
            "Epoch: 250, Train Loss: 0.3872995972633362, Validation Loss: 0.21510392427444458, F1 Score: 0.9339869461044862\n",
            "Epoch: 251, Train Loss: 0.38677918910980225, Validation Loss: 0.2149808555841446, F1 Score: 0.9339869461044862\n",
            "Epoch: 252, Train Loss: 0.38563573360443115, Validation Loss: 0.21487461030483246, F1 Score: 0.9339869461044862\n",
            "Epoch: 253, Train Loss: 0.3860984742641449, Validation Loss: 0.21476684510707855, F1 Score: 0.9339869461044862\n",
            "Epoch: 254, Train Loss: 0.3854868710041046, Validation Loss: 0.21467579901218414, F1 Score: 0.9339869461044862\n",
            "Epoch: 255, Train Loss: 0.38606318831443787, Validation Loss: 0.2145366072654724, F1 Score: 0.9339869461044862\n",
            "Epoch: 256, Train Loss: 0.3862977623939514, Validation Loss: 0.21435882151126862, F1 Score: 0.9339869461044862\n",
            "Epoch: 257, Train Loss: 0.385783851146698, Validation Loss: 0.2142055630683899, F1 Score: 0.9339869461044862\n",
            "Epoch: 258, Train Loss: 0.38643786311149597, Validation Loss: 0.21411935985088348, F1 Score: 0.9339869461044862\n",
            "Epoch: 259, Train Loss: 0.38614583015441895, Validation Loss: 0.21409183740615845, F1 Score: 0.9339869461044862\n",
            "Epoch: 260, Train Loss: 0.3842301070690155, Validation Loss: 0.21406202018260956, F1 Score: 0.9339869461044862\n",
            "Epoch: 261, Train Loss: 0.385185569524765, Validation Loss: 0.21404005587100983, F1 Score: 0.9339869461044862\n",
            "Epoch: 262, Train Loss: 0.3844357132911682, Validation Loss: 0.21399791538715363, F1 Score: 0.9339869461044862\n",
            "Epoch: 263, Train Loss: 0.3841567933559418, Validation Loss: 0.21391570568084717, F1 Score: 0.9339869461044862\n",
            "Epoch: 264, Train Loss: 0.38602152466773987, Validation Loss: 0.21393561363220215, F1 Score: 0.9339869461044862\n",
            "Epoch: 265, Train Loss: 0.3841138780117035, Validation Loss: 0.21392598748207092, F1 Score: 0.9339869461044862\n",
            "Epoch: 266, Train Loss: 0.3845282196998596, Validation Loss: 0.21388563513755798, F1 Score: 0.9339869461044862\n",
            "Epoch: 267, Train Loss: 0.38413310050964355, Validation Loss: 0.21381674706935883, F1 Score: 0.9339869461044862\n",
            "Epoch: 268, Train Loss: 0.3852764964103699, Validation Loss: 0.21378836035728455, F1 Score: 0.9339869461044862\n",
            "Epoch: 269, Train Loss: 0.3846863806247711, Validation Loss: 0.2138051688671112, F1 Score: 0.9339869461044862\n",
            "Epoch: 270, Train Loss: 0.3845110237598419, Validation Loss: 0.21383869647979736, F1 Score: 0.9339869461044862\n",
            "Epoch: 271, Train Loss: 0.38537728786468506, Validation Loss: 0.21391084790229797, F1 Score: 0.9339869461044862\n",
            "Epoch: 272, Train Loss: 0.38403651118278503, Validation Loss: 0.2139182984828949, F1 Score: 0.9339869461044862\n",
            "Epoch: 273, Train Loss: 0.38523247838020325, Validation Loss: 0.213951975107193, F1 Score: 0.9339869461044862\n",
            "Epoch: 274, Train Loss: 0.3835621476173401, Validation Loss: 0.21394582092761993, F1 Score: 0.9339869461044862\n",
            "Epoch: 275, Train Loss: 0.3839608430862427, Validation Loss: 0.21390147507190704, F1 Score: 0.9339869461044862\n",
            "Epoch: 276, Train Loss: 0.3838377594947815, Validation Loss: 0.2137901782989502, F1 Score: 0.9339869461044862\n",
            "Epoch: 277, Train Loss: 0.3843936324119568, Validation Loss: 0.21356400847434998, F1 Score: 0.9339869461044862\n",
            "Epoch: 278, Train Loss: 0.3832336366176605, Validation Loss: 0.2132914513349533, F1 Score: 0.9339869461044862\n",
            "Epoch: 279, Train Loss: 0.38431036472320557, Validation Loss: 0.21305720508098602, F1 Score: 0.9339869461044862\n",
            "Epoch: 280, Train Loss: 0.38274648785591125, Validation Loss: 0.212807759642601, F1 Score: 0.9339869461044862\n",
            "Epoch: 281, Train Loss: 0.38518238067626953, Validation Loss: 0.21271274983882904, F1 Score: 0.9339869461044862\n",
            "Epoch: 282, Train Loss: 0.38542598485946655, Validation Loss: 0.21272996068000793, F1 Score: 0.9339869461044862\n",
            "Epoch: 283, Train Loss: 0.38396334648132324, Validation Loss: 0.2127426415681839, F1 Score: 0.9339869461044862\n",
            "Epoch: 284, Train Loss: 0.38345450162887573, Validation Loss: 0.21266619861125946, F1 Score: 0.9339869461044862\n",
            "Epoch: 285, Train Loss: 0.384221613407135, Validation Loss: 0.21269261837005615, F1 Score: 0.9339869461044862\n",
            "Epoch: 286, Train Loss: 0.38368743658065796, Validation Loss: 0.2127741575241089, F1 Score: 0.9339869461044862\n",
            "Epoch: 287, Train Loss: 0.38353461027145386, Validation Loss: 0.21284420788288116, F1 Score: 0.9339869461044862\n",
            "Epoch: 288, Train Loss: 0.3842338025569916, Validation Loss: 0.21295732259750366, F1 Score: 0.9339869461044862\n",
            "Epoch: 289, Train Loss: 0.38185566663742065, Validation Loss: 0.21292147040367126, F1 Score: 0.9339869461044862\n",
            "Epoch: 290, Train Loss: 0.3837818503379822, Validation Loss: 0.2129010558128357, F1 Score: 0.9339869461044862\n",
            "Epoch: 291, Train Loss: 0.38261041045188904, Validation Loss: 0.21281005442142487, F1 Score: 0.9339869461044862\n",
            "Epoch: 292, Train Loss: 0.3835766315460205, Validation Loss: 0.21267880499362946, F1 Score: 0.9339869461044862\n",
            "Epoch: 293, Train Loss: 0.38353121280670166, Validation Loss: 0.21259360015392303, F1 Score: 0.9339869461044862\n",
            "Epoch: 294, Train Loss: 0.38315317034721375, Validation Loss: 0.21251101791858673, F1 Score: 0.9339869461044862\n",
            "Epoch: 295, Train Loss: 0.38237398862838745, Validation Loss: 0.21239471435546875, F1 Score: 0.9339869461044862\n",
            "Epoch: 296, Train Loss: 0.38284412026405334, Validation Loss: 0.21225710213184357, F1 Score: 0.9339869461044862\n",
            "Epoch: 297, Train Loss: 0.381842702627182, Validation Loss: 0.21210168302059174, F1 Score: 0.9339869461044862\n",
            "Epoch: 298, Train Loss: 0.38399168848991394, Validation Loss: 0.2120216190814972, F1 Score: 0.9339869461044862\n",
            "Epoch: 299, Train Loss: 0.3819141685962677, Validation Loss: 0.21195469796657562, F1 Score: 0.9339869461044862\n",
            "Epoch: 300, Train Loss: 0.38237568736076355, Validation Loss: 0.21186891198158264, F1 Score: 0.9339869461044862\n",
            "Precision: 0.9357651343744826\n",
            "Recall: 0.9322155030236393\n",
            "F1-score: 0.9339869461044862\n",
            "Class 0 is predicted 0.0 times.\n",
            "Class 1 is predicted 0.0 times.\n",
            "Class 2 is predicted 0.0 times.\n",
            "Class 3 is predicted 18121.0 times.\n",
            "Class 4 is predicted 0.0 times.\n"
          ]
        },
        {
          "output_type": "display_data",
          "data": {
            "text/plain": [
              "<Figure size 1200x600 with 2 Axes>"
            ],
            "image/png": "[encoded data removed]"
          },
          "metadata": {}
        }
      ]
    },
    {
      "cell_type": "code",
      "source": [
        "#gat\n",
        "model = GATGNN(hidden_channels=128)\n",
        "lr = 0.005\n",
        "\n",
        "train_all(model,lr,epochs=50)"
      ],
      "metadata": {
        "colab": {
          "base_uri": "https://localhost:8080/",
          "height": 1000
        },
        "id": "LM855xpHsy5F",
        "outputId": "6526b686-e2e9-486f-f254-ac31f2ba755a"
      },
      "execution_count": 29,
      "outputs": [
        {
          "output_type": "stream",
          "name": "stdout",
          "text": [
            "Epoch: 1, Train Loss: 0.6601004600524902, Validation Loss: 0.3275357782840729, F1 Score: 0.8424640974807796\n",
            "Epoch: 2, Train Loss: 0.6001684665679932, Validation Loss: 0.36497241258621216, F1 Score: 0.6191765507362831\n",
            "Epoch: 3, Train Loss: 0.5514662861824036, Validation Loss: 0.48473358154296875, F1 Score: 0.6121062703653259\n",
            "Epoch: 4, Train Loss: 0.5574376583099365, Validation Loss: 0.37017521262168884, F1 Score: 0.8687184661957619\n",
            "Epoch: 5, Train Loss: 0.5052633881568909, Validation Loss: 0.2834283411502838, F1 Score: 0.9339869461044862\n",
            "Epoch: 6, Train Loss: 0.4961181879043579, Validation Loss: 0.2570036053657532, F1 Score: 0.9339869461044862\n",
            "Epoch: 7, Train Loss: 0.4931585192680359, Validation Loss: 0.25837427377700806, F1 Score: 0.9339869461044862\n",
            "Epoch: 8, Train Loss: 0.4690362513065338, Validation Loss: 0.2772075831890106, F1 Score: 0.9338583544443221\n",
            "Epoch: 9, Train Loss: 0.4434288740158081, Validation Loss: 0.29242029786109924, F1 Score: 0.9332416070445789\n",
            "Epoch: 10, Train Loss: 0.42942366003990173, Validation Loss: 0.2681226432323456, F1 Score: 0.9337775697331828\n",
            "Epoch: 11, Train Loss: 0.4153842031955719, Validation Loss: 0.22011294960975647, F1 Score: 0.9339869461044862\n",
            "Epoch: 12, Train Loss: 0.40455082058906555, Validation Loss: 0.1890696883201599, F1 Score: 0.9339869461044862\n",
            "Epoch: 13, Train Loss: 0.40111324191093445, Validation Loss: 0.18973276019096375, F1 Score: 0.933869501748974\n",
            "Epoch: 14, Train Loss: 0.39371058344841003, Validation Loss: 0.21849113702774048, F1 Score: 0.9299415949290005\n",
            "Epoch: 15, Train Loss: 0.38849398493766785, Validation Loss: 0.242341086268425, F1 Score: 0.9138541023193125\n",
            "Epoch: 16, Train Loss: 0.3912642300128937, Validation Loss: 0.21856631338596344, F1 Score: 0.928478687256554\n",
            "Epoch: 17, Train Loss: 0.38729235529899597, Validation Loss: 0.18611185252666473, F1 Score: 0.9329993393525655\n",
            "Epoch: 18, Train Loss: 0.38642963767051697, Validation Loss: 0.1786162257194519, F1 Score: 0.9333443416996917\n",
            "Epoch: 19, Train Loss: 0.3858511745929718, Validation Loss: 0.19358864426612854, F1 Score: 0.9327832783278328\n",
            "Epoch: 20, Train Loss: 0.38070884346961975, Validation Loss: 0.2173968106508255, F1 Score: 0.9314000109847861\n",
            "Epoch: 21, Train Loss: 0.37822791934013367, Validation Loss: 0.22743099927902222, F1 Score: 0.9317838402153905\n",
            "Epoch: 22, Train Loss: 0.37693244218826294, Validation Loss: 0.2207273542881012, F1 Score: 0.8571774315534714\n",
            "Epoch: 23, Train Loss: 0.37502631545066833, Validation Loss: 0.21267159283161163, F1 Score: 0.8574976527243541\n",
            "Epoch: 24, Train Loss: 0.37557125091552734, Validation Loss: 0.20984405279159546, F1 Score: 0.854120436513968\n",
            "Epoch: 25, Train Loss: 0.3765391707420349, Validation Loss: 0.21179169416427612, F1 Score: 0.8535628478452603\n",
            "Epoch: 26, Train Loss: 0.3760732412338257, Validation Loss: 0.21670928597450256, F1 Score: 0.8529787622466988\n",
            "Epoch: 27, Train Loss: 0.37510427832603455, Validation Loss: 0.2214069813489914, F1 Score: 0.8525607863424729\n",
            "Epoch: 28, Train Loss: 0.3743777275085449, Validation Loss: 0.22256352007389069, F1 Score: 0.8524190847364735\n",
            "Epoch: 29, Train Loss: 0.3731933832168579, Validation Loss: 0.22073107957839966, F1 Score: 0.8524949734966185\n",
            "Epoch: 30, Train Loss: 0.3718203902244568, Validation Loss: 0.21868450939655304, F1 Score: 0.8520572996037793\n",
            "Epoch: 31, Train Loss: 0.3710361421108246, Validation Loss: 0.2175702452659607, F1 Score: 0.8510586368905974\n",
            "Epoch: 32, Train Loss: 0.37044623494148254, Validation Loss: 0.21730010211467743, F1 Score: 0.8508250221124225\n",
            "Epoch: 33, Train Loss: 0.36953991651535034, Validation Loss: 0.21761935949325562, F1 Score: 0.8511558492979625\n",
            "Epoch: 34, Train Loss: 0.36862698197364807, Validation Loss: 0.21729585528373718, F1 Score: 0.8505642242297047\n",
            "Epoch: 35, Train Loss: 0.36787906289100647, Validation Loss: 0.21453021466732025, F1 Score: 0.8504957119396631\n",
            "Epoch: 36, Train Loss: 0.3667687773704529, Validation Loss: 0.2102881819009781, F1 Score: 0.8507054244709317\n",
            "Epoch: 37, Train Loss: 0.3655032813549042, Validation Loss: 0.20755262672901154, F1 Score: 0.850644612016541\n",
            "Epoch: 38, Train Loss: 0.36443090438842773, Validation Loss: 0.20790672302246094, F1 Score: 0.8503678482398006\n",
            "Epoch: 39, Train Loss: 0.36319777369499207, Validation Loss: 0.2106723040342331, F1 Score: 0.8494822822093342\n",
            "Epoch: 40, Train Loss: 0.3620045483112335, Validation Loss: 0.21230338513851166, F1 Score: 0.8485399799872647\n",
            "Epoch: 41, Train Loss: 0.36104491353034973, Validation Loss: 0.2092950940132141, F1 Score: 0.8494414764448762\n",
            "Epoch: 42, Train Loss: 0.3598598837852478, Validation Loss: 0.2040814906358719, F1 Score: 0.8503707305214537\n",
            "Epoch: 43, Train Loss: 0.3587769865989685, Validation Loss: 0.20143550634384155, F1 Score: 0.8507249460469923\n",
            "Epoch: 44, Train Loss: 0.3577370047569275, Validation Loss: 0.20295515656471252, F1 Score: 0.8506836827711941\n",
            "Epoch: 45, Train Loss: 0.35652032494544983, Validation Loss: 0.20568566024303436, F1 Score: 0.8497966122275514\n",
            "Epoch: 46, Train Loss: 0.35548874735832214, Validation Loss: 0.20468534529209137, F1 Score: 0.8496279422930902\n",
            "Epoch: 47, Train Loss: 0.35438987612724304, Validation Loss: 0.20129111409187317, F1 Score: 0.8502341991605329\n",
            "Epoch: 48, Train Loss: 0.3533504605293274, Validation Loss: 0.20084622502326965, F1 Score: 0.8495085060409628\n",
            "Epoch: 49, Train Loss: 0.35238295793533325, Validation Loss: 0.20433776080608368, F1 Score: 0.8482653682288497\n",
            "Epoch: 50, Train Loss: 0.3512628376483917, Validation Loss: 0.20626632869243622, F1 Score: 0.8463084795321638\n",
            "Precision: 0.9488457860947958\n",
            "Recall: 0.7637713029136889\n",
            "F1-score: 0.8463084795321638\n",
            "Class 0 is predicted 9.0 times.\n",
            "Class 1 is predicted 108.0 times.\n",
            "Class 2 is predicted 3.0 times.\n",
            "Class 3 is predicted 14521.0 times.\n",
            "Class 4 is predicted 1.0 times.\n"
          ]
        },
        {
          "output_type": "display_data",
          "data": {
            "text/plain": [
              "<Figure size 1200x600 with 2 Axes>"
            ],
            "image/png": "[encoded data removed]"
          },
          "metadata": {}
        }
      ]
    },
    {
      "cell_type": "code",
      "source": [
        "test_batch.y.sum(axis=0)"
      ],
      "metadata": {
        "colab": {
          "base_uri": "https://localhost:8080/"
        },
        "id": "asouMCAh-B4w",
        "outputId": "267f6902-cea0-419e-9ffe-edb09378ae3b"
      },
      "execution_count": 31,
      "outputs": [
        {
          "output_type": "execute_result",
          "data": {
            "text/plain": [
              "tensor([  531.,   155.,   470., 16957.,    77.])"
            ]
          },
          "metadata": {},
          "execution_count": 31
        }
      ]
    },
    {
      "cell_type": "markdown",
      "source": [
        "### Single graph"
      ],
      "metadata": {
        "id": "D98yH4zGggQl"
      }
    },
    {
      "cell_type": "markdown",
      "source": [
        "#### Prepare dataset"
      ],
      "metadata": {
        "id": "OiEJSsdmf_DD"
      }
    },
    {
      "cell_type": "code",
      "source": [
        "df = pd.read_csv(\"/content/edge_list.csv\")\n",
        "df.rename(columns={'value': 'edge_label'}, inplace=True)"
      ],
      "metadata": {
        "id": "Q6YHr2ckhlEI"
      },
      "execution_count": null,
      "outputs": []
    },
    {
      "cell_type": "code",
      "source": [
        "df.head()"
      ],
      "metadata": {
        "id": "FcGWEd5rn7k0",
        "colab": {
          "base_uri": "https://localhost:8080/",
          "height": 206
        },
        "outputId": "8639bda7-900c-4671-8ce3-7c101b4df756"
      },
      "execution_count": null,
      "outputs": [
        {
          "output_type": "execute_result",
          "data": {
            "text/plain": [
              "   from_stop_I  to_stop_I route_type    edge_label\n",
              "0          105        106        [3]  [0, 0, 0, 1]\n",
              "1          105        107        [3]  [0, 0, 0, 1]\n",
              "2          106        105        [3]  [0, 0, 0, 1]\n",
              "3          106        117        [3]  [0, 0, 0, 1]\n",
              "4          107        105        [3]  [0, 0, 0, 1]"
            ],
            "text/html": [
              "\n",
              "  <div id=\"df-5dcc43d0-0ca5-4772-933e-2096f5ea0a28\">\n",
              "    <div class=\"colab-df-container\">\n",
              "      <div>\n",
              "<style scoped>\n",
              "    .dataframe tbody tr th:only-of-type {\n",
              "        vertical-align: middle;\n",
              "    }\n",
              "\n",
              "    .dataframe tbody tr th {\n",
              "        vertical-align: top;\n",
              "    }\n",
              "\n",
              "    .dataframe thead th {\n",
              "        text-align: right;\n",
              "    }\n",
              "</style>\n",
              "<table border=\"1\" class=\"dataframe\">\n",
              "  <thead>\n",
              "    <tr style=\"text-align: right;\">\n",
              "      <th></th>\n",
              "      <th>from_stop_I</th>\n",
              "      <th>to_stop_I</th>\n",
              "      <th>route_type</th>\n",
              "      <th>edge_label</th>\n",
              "    </tr>\n",
              "  </thead>\n",
              "  <tbody>\n",
              "    <tr>\n",
              "      <th>0</th>\n",
              "      <td>105</td>\n",
              "      <td>106</td>\n",
              "      <td>[3]</td>\n",
              "      <td>[0, 0, 0, 1]</td>\n",
              "    </tr>\n",
              "    <tr>\n",
              "      <th>1</th>\n",
              "      <td>105</td>\n",
              "      <td>107</td>\n",
              "      <td>[3]</td>\n",
              "      <td>[0, 0, 0, 1]</td>\n",
              "    </tr>\n",
              "    <tr>\n",
              "      <th>2</th>\n",
              "      <td>106</td>\n",
              "      <td>105</td>\n",
              "      <td>[3]</td>\n",
              "      <td>[0, 0, 0, 1]</td>\n",
              "    </tr>\n",
              "    <tr>\n",
              "      <th>3</th>\n",
              "      <td>106</td>\n",
              "      <td>117</td>\n",
              "      <td>[3]</td>\n",
              "      <td>[0, 0, 0, 1]</td>\n",
              "    </tr>\n",
              "    <tr>\n",
              "      <th>4</th>\n",
              "      <td>107</td>\n",
              "      <td>105</td>\n",
              "      <td>[3]</td>\n",
              "      <td>[0, 0, 0, 1]</td>\n",
              "    </tr>\n",
              "  </tbody>\n",
              "</table>\n",
              "</div>\n",
              "      <button class=\"colab-df-convert\" onclick=\"convertToInteractive('df-5dcc43d0-0ca5-4772-933e-2096f5ea0a28')\"\n",
              "              title=\"Convert this dataframe to an interactive table.\"\n",
              "              style=\"display:none;\">\n",
              "        \n",
              "  <svg xmlns=\"http://www.w3.org/2000/svg\" height=\"24px\"viewBox=\"0 0 24 24\"\n",
              "       width=\"24px\">\n",
              "    <path d=\"M0 0h24v24H0V0z\" fill=\"none\"/>\n",
              "    <path d=\"M18.56 5.44l.94 2.06.94-2.06 2.06-.94-2.06-.94-.94-2.06-.94 2.06-2.06.94zm-11 1L8.5 8.5l.94-2.06 2.06-.94-2.06-.94L8.5 2.5l-.94 2.06-2.06.94zm10 10l.94 2.06.94-2.06 2.06-.94-2.06-.94-.94-2.06-.94 2.06-2.06.94z\"/><path d=\"M17.41 7.96l-1.37-1.37c-.4-.4-.92-.59-1.43-.59-.52 0-1.04.2-1.43.59L10.3 9.45l-7.72 7.72c-.78.78-.78 2.05 0 2.83L4 21.41c.39.39.9.59 1.41.59.51 0 1.02-.2 1.41-.59l7.78-7.78 2.81-2.81c.8-.78.8-2.07 0-2.86zM5.41 20L4 18.59l7.72-7.72 1.47 1.35L5.41 20z\"/>\n",
              "  </svg>\n",
              "      </button>\n",
              "      \n",
              "  <style>\n",
              "    .colab-df-container {\n",
              "      display:flex;\n",
              "      flex-wrap:wrap;\n",
              "      gap: 12px;\n",
              "    }\n",
              "\n",
              "    .colab-df-convert {\n",
              "      background-color: #E8F0FE;\n",
              "      border: none;\n",
              "      border-radius: 50%;\n",
              "      cursor: pointer;\n",
              "      display: none;\n",
              "      fill: #1967D2;\n",
              "      height: 32px;\n",
              "      padding: 0 0 0 0;\n",
              "      width: 32px;\n",
              "    }\n",
              "\n",
              "    .colab-df-convert:hover {\n",
              "      background-color: #E2EBFA;\n",
              "      box-shadow: 0px 1px 2px rgba(60, 64, 67, 0.3), 0px 1px 3px 1px rgba(60, 64, 67, 0.15);\n",
              "      fill: #174EA6;\n",
              "    }\n",
              "\n",
              "    [theme=dark] .colab-df-convert {\n",
              "      background-color: #3B4455;\n",
              "      fill: #D2E3FC;\n",
              "    }\n",
              "\n",
              "    [theme=dark] .colab-df-convert:hover {\n",
              "      background-color: #434B5C;\n",
              "      box-shadow: 0px 1px 3px 1px rgba(0, 0, 0, 0.15);\n",
              "      filter: drop-shadow(0px 1px 2px rgba(0, 0, 0, 0.3));\n",
              "      fill: #FFFFFF;\n",
              "    }\n",
              "  </style>\n",
              "\n",
              "      <script>\n",
              "        const buttonEl =\n",
              "          document.querySelector('#df-5dcc43d0-0ca5-4772-933e-2096f5ea0a28 button.colab-df-convert');\n",
              "        buttonEl.style.display =\n",
              "          google.colab.kernel.accessAllowed ? 'block' : 'none';\n",
              "\n",
              "        async function convertToInteractive(key) {\n",
              "          const element = document.querySelector('#df-5dcc43d0-0ca5-4772-933e-2096f5ea0a28');\n",
              "          const dataTable =\n",
              "            await google.colab.kernel.invokeFunction('convertToInteractive',\n",
              "                                                     [key], {});\n",
              "          if (!dataTable) return;\n",
              "\n",
              "          const docLinkHtml = 'Like what you see? Visit the ' +\n",
              "            '<a target=\"_blank\" href=https://colab.research.google.com/notebooks/data_table.ipynb>data table notebook</a>'\n",
              "            + ' to learn more about interactive tables.';\n",
              "          element.innerHTML = '';\n",
              "          dataTable['output_type'] = 'display_data';\n",
              "          await google.colab.output.renderOutput(dataTable, element);\n",
              "          const docLink = document.createElement('div');\n",
              "          docLink.innerHTML = docLinkHtml;\n",
              "          element.appendChild(docLink);\n",
              "        }\n",
              "      </script>\n",
              "    </div>\n",
              "  </div>\n",
              "  "
            ]
          },
          "metadata": {},
          "execution_count": 7
        }
      ]
    },
    {
      "cell_type": "code",
      "source": [
        "df['edge_label'] = df['edge_label'].apply(literal_eval)  # convert string format list to actual list\n",
        "edge_label = torch.tensor(df['edge_label'].tolist(), dtype=torch.float)\n",
        "edge_index = torch.tensor(df[['from_stop_I', 'to_stop_I']].values, dtype=torch.long).t().contiguous()\n"
      ],
      "metadata": {
        "id": "1hPF_TKZn4M4"
      },
      "execution_count": null,
      "outputs": []
    },
    {
      "cell_type": "markdown",
      "source": [
        "#### Node features"
      ],
      "metadata": {
        "id": "rtx_MzE9qbvi"
      }
    },
    {
      "cell_type": "code",
      "source": [
        "# Create a graph using NetworkX\n",
        "G = nx.from_pandas_edgelist(df, 'from_stop_I', 'to_stop_I', create_using=nx.DiGraph())\n",
        "\n",
        "# Calculate node features for all nodes in the graph\n",
        "all_nodes = list(G.nodes)\n",
        "degree = dict(G.degree(all_nodes))\n",
        "betweenness_centrality = nx.betweenness_centrality(G)\n",
        "\n",
        "clustering_coefficient = nx.clustering(G)\n",
        "closeness_centrality = nx.closeness_centrality(G)\n",
        "\n",
        "# Prepare a DataFrame with node features\n",
        "df_nodes = pd.DataFrame.from_dict([degree, betweenness_centrality, clustering_coefficient, closeness_centrality]).T\n",
        "df_nodes.columns = ['degree', 'betweenness_centrality', 'clustering_coefficient', 'closeness_centrality']"
      ],
      "metadata": {
        "id": "s4GmN0iHqdVo"
      },
      "execution_count": null,
      "outputs": []
    },
    {
      "cell_type": "code",
      "source": [
        "# Map node names to consecutive integers\n",
        "mapping = {node: i for i, node in enumerate(df_nodes.index)}"
      ],
      "metadata": {
        "id": "XPsFabnE0VhR"
      },
      "execution_count": null,
      "outputs": []
    },
    {
      "cell_type": "code",
      "source": [
        "df['from_stop_I'] = df['from_stop_I'].map(mapping)\n",
        "df['to_stop_I'] = df['to_stop_I'].map(mapping)\n"
      ],
      "metadata": {
        "id": "34UW-qTI0Nq_"
      },
      "execution_count": null,
      "outputs": []
    },
    {
      "cell_type": "markdown",
      "source": [
        "#### Train split and prepare data"
      ],
      "metadata": {
        "id": "Ol1TLFICz_ox"
      }
    },
    {
      "cell_type": "code",
      "source": [
        "# Convert the DataFrame to a tensor\n",
        "x = torch.tensor(df_nodes.values, dtype=torch.float)\n",
        "\n",
        "# Create edge index tensor\n",
        "edge_index = torch.tensor(df[['from_stop_I', 'to_stop_I']].values, dtype=torch.long).t().contiguous()\n",
        "\n",
        "# Split edge indices and labels into train and test sets\n",
        "edge_index_train, edge_index_test, edge_label_train, edge_label_test = train_test_split(\n",
        "    edge_index.T, edge_label, test_size=0.2, random_state=42,stratify = edge_label)\n",
        "\n",
        "# Convert train and test datasets back to PyTorch Geometric data format\n",
        "train_data = Data(x=x, edge_index=edge_index_train.T.contiguous(), edge_attr=edge_label_train)\n",
        "test_data = Data(x=x, edge_index=edge_index_test.T.contiguous(), edge_attr=edge_label_test)"
      ],
      "metadata": {
        "id": "MP8QSp5Ez-Wt"
      },
      "execution_count": null,
      "outputs": []
    },
    {
      "cell_type": "code",
      "source": [
        "test_data.edge_attr.numpy().sum(axis=0)"
      ],
      "metadata": {
        "colab": {
          "base_uri": "https://localhost:8080/"
        },
        "id": "OVBj8PPQLVny",
        "outputId": "a5302ff0-342e-4303-b94a-570fd6228824"
      },
      "execution_count": null,
      "outputs": [
        {
          "output_type": "execute_result",
          "data": {
            "text/plain": [
              "array([ 198.,   73.,  101., 2042.], dtype=float32)"
            ]
          },
          "metadata": {},
          "execution_count": 18
        }
      ]
    },
    {
      "cell_type": "markdown",
      "source": [
        "#### Train"
      ],
      "metadata": {
        "id": "JThnH8Oo0DIy"
      }
    },
    {
      "cell_type": "code",
      "source": [
        "class GATGNN(torch.nn.Module):\n",
        "    def __init__(self, hidden_channels):\n",
        "        super(GATGNN, self).__init__()\n",
        "        self.gat1 = graphnn.GATConv(df_nodes.shape[1], hidden_channels, heads=4)\n",
        "        self.gat2 = graphnn.GATConv(hidden_channels*4, hidden_channels, heads=4)\n",
        "        self.gat3 = graphnn.GATConv(hidden_channels*4, len(edge_label[0]), heads=6)\n",
        "\n",
        "        self.linear = nn.Linear(len(edge_label[0])*6,len(edge_label[0]))\n",
        "\n",
        "        self.elu = nn.ELU()\n",
        "\n",
        "    def forward(self, x, edge_index):\n",
        "        x = self.gat1(x, edge_index)\n",
        "        x = self.elu(x)\n",
        "        x = self.gat2(x, edge_index)\n",
        "        x = self.elu(x)\n",
        "        x = self.gat3(x, edge_index)\n",
        "        x = self.linear(x)\n",
        "        return x"
      ],
      "metadata": {
        "id": "_IqwNrb4u9Xa"
      },
      "execution_count": null,
      "outputs": []
    },
    {
      "cell_type": "code",
      "source": [
        "class GNN(torch.nn.Module):\n",
        "    def __init__(self, hidden_channels):\n",
        "        super(GNN, self).__init__()\n",
        "        self.conv1 = GCNConv(df_nodes.shape[1], hidden_channels)\n",
        "        self.conv2 = GCNConv(hidden_channels, hidden_channels)\n",
        "        self.conv3 = GCNConv(hidden_channels, len(edge_label[0]))\n",
        "\n",
        "    def forward(self, x, edge_index):\n",
        "        x = self.conv1(x, edge_index)\n",
        "        x = x.relu()\n",
        "        x = self.conv2(x, edge_index)\n",
        "        x = x.relu()\n",
        "        x = F.dropout(x, p=0.5, training=self.training)\n",
        "        x = self.conv3(x, edge_index)\n",
        "        return x\n"
      ],
      "metadata": {
        "id": "D4S-UWfXqD2B"
      },
      "execution_count": null,
      "outputs": []
    },
    {
      "cell_type": "code",
      "source": [
        "model = GNN(hidden_channels=16)\n",
        "optimizer = torch.optim.Adam(model.parameters(),lr=0.002)\n",
        "criterion = torch.nn.BCEWithLogitsLoss()"
      ],
      "metadata": {
        "id": "zYqIg39EqHg1"
      },
      "execution_count": null,
      "outputs": []
    },
    {
      "cell_type": "code",
      "source": [
        "#model = GATGNN(hidden_channels=256)\n",
        "#optimizer = torch.optim.Adam(model.parameters(), lr=0.005)\n",
        "#criterion = torch.nn.BCEWithLogitsLoss()"
      ],
      "metadata": {
        "id": "qlTcmj_Rvnle"
      },
      "execution_count": null,
      "outputs": []
    },
    {
      "cell_type": "code",
      "source": [
        "def train():\n",
        "    model.train()\n",
        "    optimizer.zero_grad()\n",
        "    out = model(train_data.x, train_data.edge_index)\n",
        "    loss = criterion(out[train_data.edge_index[0]], train_data.edge_attr)\n",
        "    loss.backward()\n",
        "    optimizer.step()\n",
        "    return loss.item()\n"
      ],
      "metadata": {
        "id": "or-lt-hcp4t2"
      },
      "execution_count": null,
      "outputs": []
    },
    {
      "cell_type": "code",
      "source": [
        "torch.unique(test_data.edge_index[0]).size()"
      ],
      "metadata": {
        "colab": {
          "base_uri": "https://localhost:8080/"
        },
        "id": "w1jZbAtc8XTT",
        "outputId": "676d6439-7b4b-4fdc-a85f-ab148054783c"
      },
      "execution_count": null,
      "outputs": [
        {
          "output_type": "execute_result",
          "data": {
            "text/plain": [
              "torch.Size([1888])"
            ]
          },
          "metadata": {},
          "execution_count": 24
        }
      ]
    },
    {
      "cell_type": "code",
      "source": [
        "# Lists to store losses and f1 scores\n",
        "losses = []\n",
        "f1_scores = []\n",
        "\n",
        "for epoch in range(100):\n",
        "    loss = train()\n",
        "    losses.append(loss)\n",
        "\n",
        "    # Evaluation phase\n",
        "    model.eval()\n",
        "\n",
        "    # Make predictions on the test set\n",
        "    with torch.no_grad():\n",
        "        test_pred = model(test_data.x, test_data.edge_index)\n",
        "\n",
        "    # Apply a sigmoid function to the predictions and round to get binary predictions\n",
        "\n",
        "    print(test_pred)\n",
        "    print(test_data.edge_index)\n",
        "    print(test_data.edge_index[0])\n",
        "    print(test_pred[test_data.edge_index[0]])\n",
        "    break\n",
        "\n",
        "    # test_pred are logits\n",
        "    # test_data.edge_index[0] are the starting nodes of edges\n",
        "    # test_pred[test_data.edge_index[0]] simply reorders the indexes so that,\n",
        "    # they are aligned the same way as test_data.edge_attr\n",
        "\n",
        "    test_pred = (torch.sigmoid(test_pred[test_data.edge_index[0]]) > 0.5).float()\n",
        "\n",
        "    # Calculate the F1 score\n",
        "    f1 = f1_score(test_data.edge_attr.numpy(), test_pred.numpy(), average='micro')\n",
        "    f1_scores.append(f1)\n",
        "\n",
        "    print(f\"Epoch: {epoch+1}, Loss: {loss}, F1 Score: {f1}\")\n"
      ],
      "metadata": {
        "colab": {
          "base_uri": "https://localhost:8080/",
          "height": 425
        },
        "id": "t_q8QOV2p61i",
        "outputId": "e132ef69-0c40-4523-efd2-3e8de07648e6"
      },
      "execution_count": null,
      "outputs": [
        {
          "output_type": "error",
          "ename": "ValueError",
          "evalue": "ignored",
          "traceback": [
            "\u001b[0;31m---------------------------------------------------------------------------\u001b[0m",
            "\u001b[0;31mValueError\u001b[0m                                Traceback (most recent call last)",
            "\u001b[0;32m<ipython-input-29-0afec3d19c82>\u001b[0m in \u001b[0;36m<cell line: 5>\u001b[0;34m()\u001b[0m\n\u001b[1;32m      4\u001b[0m \u001b[0;34m\u001b[0m\u001b[0m\n\u001b[1;32m      5\u001b[0m \u001b[0;32mfor\u001b[0m \u001b[0mepoch\u001b[0m \u001b[0;32min\u001b[0m \u001b[0mrange\u001b[0m\u001b[0;34m(\u001b[0m\u001b[0;36m100\u001b[0m\u001b[0;34m)\u001b[0m\u001b[0;34m:\u001b[0m\u001b[0;34m\u001b[0m\u001b[0;34m\u001b[0m\u001b[0m\n\u001b[0;32m----> 6\u001b[0;31m     \u001b[0mloss\u001b[0m \u001b[0;34m=\u001b[0m \u001b[0mtrain\u001b[0m\u001b[0;34m(\u001b[0m\u001b[0;34m)\u001b[0m\u001b[0;34m\u001b[0m\u001b[0;34m\u001b[0m\u001b[0m\n\u001b[0m\u001b[1;32m      7\u001b[0m     \u001b[0mlosses\u001b[0m\u001b[0;34m.\u001b[0m\u001b[0mappend\u001b[0m\u001b[0;34m(\u001b[0m\u001b[0mloss\u001b[0m\u001b[0;34m)\u001b[0m\u001b[0;34m\u001b[0m\u001b[0;34m\u001b[0m\u001b[0m\n\u001b[1;32m      8\u001b[0m \u001b[0;34m\u001b[0m\u001b[0m\n",
            "\u001b[0;32m<ipython-input-28-c16e746a5713>\u001b[0m in \u001b[0;36mtrain\u001b[0;34m()\u001b[0m\n\u001b[1;32m      3\u001b[0m     \u001b[0moptimizer\u001b[0m\u001b[0;34m.\u001b[0m\u001b[0mzero_grad\u001b[0m\u001b[0;34m(\u001b[0m\u001b[0;34m)\u001b[0m\u001b[0;34m\u001b[0m\u001b[0;34m\u001b[0m\u001b[0m\n\u001b[1;32m      4\u001b[0m     \u001b[0mout\u001b[0m \u001b[0;34m=\u001b[0m \u001b[0mmodel\u001b[0m\u001b[0;34m(\u001b[0m\u001b[0mtrain_data\u001b[0m\u001b[0;34m.\u001b[0m\u001b[0mx\u001b[0m\u001b[0;34m,\u001b[0m \u001b[0mtrain_data\u001b[0m\u001b[0;34m.\u001b[0m\u001b[0medge_index\u001b[0m\u001b[0;34m)\u001b[0m\u001b[0;34m\u001b[0m\u001b[0;34m\u001b[0m\u001b[0m\n\u001b[0;32m----> 5\u001b[0;31m     \u001b[0mloss\u001b[0m \u001b[0;34m=\u001b[0m \u001b[0mcriterion\u001b[0m\u001b[0;34m(\u001b[0m\u001b[0mout\u001b[0m\u001b[0;34m,\u001b[0m \u001b[0mtrain_data\u001b[0m\u001b[0;34m.\u001b[0m\u001b[0medge_attr\u001b[0m\u001b[0;34m)\u001b[0m\u001b[0;34m\u001b[0m\u001b[0;34m\u001b[0m\u001b[0m\n\u001b[0m\u001b[1;32m      6\u001b[0m     \u001b[0mloss\u001b[0m\u001b[0;34m.\u001b[0m\u001b[0mbackward\u001b[0m\u001b[0;34m(\u001b[0m\u001b[0;34m)\u001b[0m\u001b[0;34m\u001b[0m\u001b[0;34m\u001b[0m\u001b[0m\n\u001b[1;32m      7\u001b[0m     \u001b[0moptimizer\u001b[0m\u001b[0;34m.\u001b[0m\u001b[0mstep\u001b[0m\u001b[0;34m(\u001b[0m\u001b[0;34m)\u001b[0m\u001b[0;34m\u001b[0m\u001b[0;34m\u001b[0m\u001b[0m\n",
            "\u001b[0;32m/usr/local/lib/python3.10/dist-packages/torch/nn/modules/module.py\u001b[0m in \u001b[0;36m_call_impl\u001b[0;34m(self, *args, **kwargs)\u001b[0m\n\u001b[1;32m   1499\u001b[0m                 \u001b[0;32mor\u001b[0m \u001b[0m_global_backward_pre_hooks\u001b[0m \u001b[0;32mor\u001b[0m \u001b[0m_global_backward_hooks\u001b[0m\u001b[0;34m\u001b[0m\u001b[0;34m\u001b[0m\u001b[0m\n\u001b[1;32m   1500\u001b[0m                 or _global_forward_hooks or _global_forward_pre_hooks):\n\u001b[0;32m-> 1501\u001b[0;31m             \u001b[0;32mreturn\u001b[0m \u001b[0mforward_call\u001b[0m\u001b[0;34m(\u001b[0m\u001b[0;34m*\u001b[0m\u001b[0margs\u001b[0m\u001b[0;34m,\u001b[0m \u001b[0;34m**\u001b[0m\u001b[0mkwargs\u001b[0m\u001b[0;34m)\u001b[0m\u001b[0;34m\u001b[0m\u001b[0;34m\u001b[0m\u001b[0m\n\u001b[0m\u001b[1;32m   1502\u001b[0m         \u001b[0;31m# Do not call functions when jit is used\u001b[0m\u001b[0;34m\u001b[0m\u001b[0;34m\u001b[0m\u001b[0m\n\u001b[1;32m   1503\u001b[0m         \u001b[0mfull_backward_hooks\u001b[0m\u001b[0;34m,\u001b[0m \u001b[0mnon_full_backward_hooks\u001b[0m \u001b[0;34m=\u001b[0m \u001b[0;34m[\u001b[0m\u001b[0;34m]\u001b[0m\u001b[0;34m,\u001b[0m \u001b[0;34m[\u001b[0m\u001b[0;34m]\u001b[0m\u001b[0;34m\u001b[0m\u001b[0;34m\u001b[0m\u001b[0m\n",
            "\u001b[0;32m/usr/local/lib/python3.10/dist-packages/torch/nn/modules/loss.py\u001b[0m in \u001b[0;36mforward\u001b[0;34m(self, input, target)\u001b[0m\n\u001b[1;32m    718\u001b[0m \u001b[0;34m\u001b[0m\u001b[0m\n\u001b[1;32m    719\u001b[0m     \u001b[0;32mdef\u001b[0m \u001b[0mforward\u001b[0m\u001b[0;34m(\u001b[0m\u001b[0mself\u001b[0m\u001b[0;34m,\u001b[0m \u001b[0minput\u001b[0m\u001b[0;34m:\u001b[0m \u001b[0mTensor\u001b[0m\u001b[0;34m,\u001b[0m \u001b[0mtarget\u001b[0m\u001b[0;34m:\u001b[0m \u001b[0mTensor\u001b[0m\u001b[0;34m)\u001b[0m \u001b[0;34m->\u001b[0m \u001b[0mTensor\u001b[0m\u001b[0;34m:\u001b[0m\u001b[0;34m\u001b[0m\u001b[0;34m\u001b[0m\u001b[0m\n\u001b[0;32m--> 720\u001b[0;31m         return F.binary_cross_entropy_with_logits(input, target,\n\u001b[0m\u001b[1;32m    721\u001b[0m                                                   \u001b[0mself\u001b[0m\u001b[0;34m.\u001b[0m\u001b[0mweight\u001b[0m\u001b[0;34m,\u001b[0m\u001b[0;34m\u001b[0m\u001b[0;34m\u001b[0m\u001b[0m\n\u001b[1;32m    722\u001b[0m                                                   \u001b[0mpos_weight\u001b[0m\u001b[0;34m=\u001b[0m\u001b[0mself\u001b[0m\u001b[0;34m.\u001b[0m\u001b[0mpos_weight\u001b[0m\u001b[0;34m,\u001b[0m\u001b[0;34m\u001b[0m\u001b[0;34m\u001b[0m\u001b[0m\n",
            "\u001b[0;32m/usr/local/lib/python3.10/dist-packages/torch/nn/functional.py\u001b[0m in \u001b[0;36mbinary_cross_entropy_with_logits\u001b[0;34m(input, target, weight, size_average, reduce, reduction, pos_weight)\u001b[0m\n\u001b[1;32m   3161\u001b[0m \u001b[0;34m\u001b[0m\u001b[0m\n\u001b[1;32m   3162\u001b[0m     \u001b[0;32mif\u001b[0m \u001b[0;32mnot\u001b[0m \u001b[0;34m(\u001b[0m\u001b[0mtarget\u001b[0m\u001b[0;34m.\u001b[0m\u001b[0msize\u001b[0m\u001b[0;34m(\u001b[0m\u001b[0;34m)\u001b[0m \u001b[0;34m==\u001b[0m \u001b[0minput\u001b[0m\u001b[0;34m.\u001b[0m\u001b[0msize\u001b[0m\u001b[0;34m(\u001b[0m\u001b[0;34m)\u001b[0m\u001b[0;34m)\u001b[0m\u001b[0;34m:\u001b[0m\u001b[0;34m\u001b[0m\u001b[0;34m\u001b[0m\u001b[0m\n\u001b[0;32m-> 3163\u001b[0;31m         \u001b[0;32mraise\u001b[0m \u001b[0mValueError\u001b[0m\u001b[0;34m(\u001b[0m\u001b[0;34m\"Target size ({}) must be the same as input size ({})\"\u001b[0m\u001b[0;34m.\u001b[0m\u001b[0mformat\u001b[0m\u001b[0;34m(\u001b[0m\u001b[0mtarget\u001b[0m\u001b[0;34m.\u001b[0m\u001b[0msize\u001b[0m\u001b[0;34m(\u001b[0m\u001b[0;34m)\u001b[0m\u001b[0;34m,\u001b[0m \u001b[0minput\u001b[0m\u001b[0;34m.\u001b[0m\u001b[0msize\u001b[0m\u001b[0;34m(\u001b[0m\u001b[0;34m)\u001b[0m\u001b[0;34m)\u001b[0m\u001b[0;34m)\u001b[0m\u001b[0;34m\u001b[0m\u001b[0;34m\u001b[0m\u001b[0m\n\u001b[0m\u001b[1;32m   3164\u001b[0m \u001b[0;34m\u001b[0m\u001b[0m\n\u001b[1;32m   3165\u001b[0m     \u001b[0;32mreturn\u001b[0m \u001b[0mtorch\u001b[0m\u001b[0;34m.\u001b[0m\u001b[0mbinary_cross_entropy_with_logits\u001b[0m\u001b[0;34m(\u001b[0m\u001b[0minput\u001b[0m\u001b[0;34m,\u001b[0m \u001b[0mtarget\u001b[0m\u001b[0;34m,\u001b[0m \u001b[0mweight\u001b[0m\u001b[0;34m,\u001b[0m \u001b[0mpos_weight\u001b[0m\u001b[0;34m,\u001b[0m \u001b[0mreduction_enum\u001b[0m\u001b[0;34m)\u001b[0m\u001b[0;34m\u001b[0m\u001b[0;34m\u001b[0m\u001b[0m\n",
            "\u001b[0;31mValueError\u001b[0m: Target size (torch.Size([9277, 4])) must be the same as input size (torch.Size([4601, 4]))"
          ]
        }
      ]
    },
    {
      "cell_type": "code",
      "source": [
        "import matplotlib.pyplot as plt\n",
        "\n",
        "plt.figure(figsize=(12, 6))\n",
        "\n",
        "# Plot losses\n",
        "plt.subplot(1, 2, 1)\n",
        "plt.plot(losses, label='Train Loss')\n",
        "plt.xlabel('Epoch')\n",
        "plt.ylabel('Loss')\n",
        "plt.title('Loss vs. Epoch')\n",
        "plt.legend()\n",
        "\n",
        "# Plot F1 scores\n",
        "plt.subplot(1, 2, 2)\n",
        "plt.plot(f1_scores, label='F1 Score')\n",
        "plt.xlabel('Epoch')\n",
        "plt.ylabel('F1 Score')\n",
        "plt.title('F1 Score vs. Epoch')\n",
        "plt.legend()\n",
        "\n",
        "plt.tight_layout()\n",
        "plt.show()"
      ],
      "metadata": {
        "id": "iiCubOvsxQxW"
      },
      "execution_count": null,
      "outputs": []
    },
    {
      "cell_type": "code",
      "source": [
        "import numpy as np\n",
        "\n",
        "# Assuming test_pred is your model's predictions and they are already binarized\n",
        "predicted_labels = test_pred.numpy()\n",
        "\n",
        "# Sum along the sample axis to get count of predictions for each class\n",
        "counts = np.sum(predicted_labels, axis=0)\n",
        "\n",
        "for i, count in enumerate(counts):\n",
        "    print(f\"Class {i} is predicted {count} times.\")"
      ],
      "metadata": {
        "colab": {
          "base_uri": "https://localhost:8080/"
        },
        "id": "WRPyhbK3xzar",
        "outputId": "09a265c5-ab75-4cca-d15e-a625baf19a95"
      },
      "execution_count": null,
      "outputs": [
        {
          "output_type": "stream",
          "name": "stdout",
          "text": [
            "Class 0 is predicted 0.0 times.\n",
            "Class 1 is predicted 0.0 times.\n",
            "Class 2 is predicted 0.0 times.\n",
            "Class 3 is predicted 2320.0 times.\n"
          ]
        }
      ]
    },
    {
      "cell_type": "markdown",
      "source": [
        "Performance of GNN very similar to GAT, achieving 0.86. The problem is that because of class unbalanceness, the model will fit to predict always class 3. Adapting learning rate is not helping."
      ],
      "metadata": {
        "id": "JiNSSTMJw1s3"
      }
    }
  ],
  "metadata": {
    "colab": {
      "provenance": [],
      "gpuType": "T4",
      "collapsed_sections": [
        "D98yH4zGggQl"
      ]
    },
    "kernelspec": {
      "display_name": "adaexam",
      "language": "python",
      "name": "python3"
    },
    "language_info": {
      "codemirror_mode": {
        "name": "ipython",
        "version": 3
      },
      "file_extension": ".py",
      "mimetype": "text/x-python",
      "name": "python",
      "nbconvert_exporter": "python",
      "pygments_lexer": "ipython3",
      "version": "3.8.12"
    },
    "orig_nbformat": 4,
    "accelerator": "GPU",
    "gpuClass": "standard"
  },
  "nbformat": 4,
  "nbformat_minor": 0
}